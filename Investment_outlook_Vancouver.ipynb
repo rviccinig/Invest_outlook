{
 "cells": [
  {
   "attachments": {
    "image-4.png": {
     "image/png": "[encoded data removed]"
    }
   },
   "cell_type": "markdown",
   "metadata": {},
   "source": [
    "<left><img src=\"attachment:image-4.png\"/></left>"
   ]
  },
  {
   "cell_type": "markdown",
   "metadata": {
    "tags": []
   },
   "source": [
    "## Investment Outlook -  All Markets"
   ]
  },
  {
   "cell_type": "markdown",
   "metadata": {
    "jp-MarkdownHeadingCollapsed": true,
    "tags": []
   },
   "source": [
    "#### USAGE GUIDE: \n",
    "\n",
    "0. LOAD VIRTUAL ENVIRONMENT geo_env\n",
    "1. VERY IMPORTANT!! MAKE THE DATABANK STRUCTURE REMAINS THE SAME EVERY QUARTER!!\n",
    "2. CHECK THE CONFIGURATION CELL BELOW AND CHANGE \"FILE OUTPUT NAME\" ,  \"DATABANK TO BE LOADED\"(FX. Q3 2021 DATABANK .XLX)\n",
    "3. LOAD ALL THE DATABASES AND CONVERT THEM IN DICTIONARIES\n",
    "4. CHECK THAT ALL THE SERIES MATCH THE TIME PERIOD\n",
    "5. All elements in series need to be the same format!! its not acceptable to have a string in the middle and number.\n",
    "6. All column names need to be in the same format(FX ('2021' is not the same as \" 2021\"))\n",
    "7. Always Start your code from prs=Presentation('Canadian_report_template.pptx') , to test the charts\n",
    "8. Always erase the file you output\n",
    "9. Check if there are any NaN in your you data.\n",
    "\n",
    "#### NOTE\n",
    "\n",
    "- Make sure the dictionary keys are the same! don't change that!\n",
    "- Using data from YTD requires that all observations in PSF are Numbers not Strings or Floats!\n",
    "\n",
    "\n",
    "#### HELP FILES FOR PANDAS AND PPTX  :\n",
    "\n",
    "- https://python-pptx.readthedocs.io/en/latest/user/placeholders-using.html\n",
    "- https://python-pptx.readthedocs.io/en/latest/user/charts.html\n",
    "- https://pandas.pydata.org/docs/reference/api/pandas.DataFrame.to_dict.html"
   ]
  },
  {
   "cell_type": "markdown",
   "metadata": {
    "tags": []
   },
   "source": [
    "#### Configuration:"
   ]
  },
  {
   "cell_type": "code",
   "execution_count": 31,
   "metadata": {
    "code_folding": [],
    "tags": []
   },
   "outputs": [],
   "source": [
    "Databank_name='Canada CM Databank - Q4 2021_v6.xlsx'\n",
    "file_output_name=\"Q4_2021_Vancouver_INV_OUT.pptx\""
   ]
  },
  {
   "cell_type": "markdown",
   "metadata": {
    "jp-MarkdownHeadingCollapsed": true,
    "tags": []
   },
   "source": [
    "#### Loading and Formatting the Databank: "
   ]
  },
  {
   "cell_type": "code",
   "execution_count": 32,
   "metadata": {
    "code_folding": [
     0
    ]
   },
   "outputs": [],
   "source": [
    "#Import Packages\n",
    "#Using the geo_env environment\n",
    "from pptx import Presentation\n",
    "from pptx.enum.shapes import MSO_SHAPE\n",
    "from pptx.dml.color import RGBColor\n",
    "from pptx.util import Inches, Pt\n",
    "from pptx.enum.dml import MSO_THEME_COLOR\n",
    "import numpy as np\n",
    "import pandas as pd\n",
    "from pptx.chart.data import CategoryChartData\n",
    "from pptx.enum.chart import XL_CHART_TYPE\n",
    "from pptx.chart.data import ChartData\n",
    "import numpy as np \n",
    "import datetime\n",
    "\n",
    "\n",
    "from pptx.dml.chtfmt import ChartFormat\n",
    "from pptx.enum.chart import (\n",
    "    XL_AXIS_CROSSES,\n",
    "    XL_CATEGORY_TYPE,\n",
    "    XL_TICK_LABEL_POSITION,\n",
    "    XL_TICK_MARK,\n",
    "    XL_LEGEND_POSITION\n",
    ")\n",
    "from pptx.oxml.ns import qn\n",
    "from pptx.oxml.simpletypes import ST_Orientation\n",
    "from pptx.shared import ElementProxy\n",
    "from pptx.text.text import Font, TextFrame\n",
    "from pptx.util import lazyproperty\n",
    "from pivottablejs import pivot_ui\n",
    "import ipypivot as pt"
   ]
  },
  {
   "cell_type": "code",
   "execution_count": 33,
   "metadata": {
    "code_folding": [
     0
    ]
   },
   "outputs": [],
   "source": [
    "#Filling the Array's NAN with value\n",
    "def fill_array(arr):\n",
    "    ind = np.where(~np.isnan(arr))[0]\n",
    "    first, last = ind[0], ind[-1]\n",
    "    arr[:first] = arr[first]\n",
    "    arr[last + 1:] = arr[last]\n",
    "    return arr\n",
    "\n",
    "#This only works for data that from the VP and Bonds, IRS , File 15 = 2016 in the VP series\n",
    "def from_quarter_year(fill_array,Dates_capital_data,series ,number=15):\n",
    "    Dates_Quarter = pd.to_datetime([f'{x[-4:]}{x[:2]}' for x in Dates_capital_data])\n",
    "    test=fill_array(series)\n",
    "    test.index=Dates_Quarter\n",
    "    Year=test.resample(\"Y\").last()[number:]\n",
    "    return Year\n"
   ]
  },
  {
   "cell_type": "code",
   "execution_count": 34,
   "metadata": {},
   "outputs": [],
   "source": [
    "#Loading Databank \"Valuation Parameters\" and Creating Panel\n",
    "capital_data=pd.read_excel(open(Databank_name,'rb'),sheet_name='Valuation Parameters', header=1,index_col= False,engine = 'openpyxl')\n",
    "#Creating a Dictionary to Access Columns , starts at column 6\n",
    "Dates_capital_data=capital_data.columns[6:]\n",
    "\n",
    "# Creating Series Data for pptx Charts, Transpose all the columns starting in column 6,\n",
    "f1 = capital_data.iloc[:, 6:].T\n",
    "f2=f1.to_dict('series')\n",
    "# Create Labels, put them as keys in the new dictionary dictionary_with_panel\n",
    "Labels=capital_data['Sector']+'_'+capital_data['Parameter']+'_'+capital_data['Sub-Type']+'_'+capital_data['Market']+'_'+capital_data['Class']\n",
    "dict_VP=dict()\n",
    "for i in f2.keys():\n",
    "        dict_VP[list(Labels)[i]]=f2[i]"
   ]
  },
  {
   "cell_type": "code",
   "execution_count": 35,
   "metadata": {
    "code_folding": [
     0
    ]
   },
   "outputs": [],
   "source": [
    "#Loading Databank \"Hist. Inv. Volumes\" and Data Structures Necesary\n",
    "list_inv_volumes=pd.read_excel(open(Databank_name,'rb'),sheet_name='Hist. Inv. Volumes', header=0,index_col= False,engine = 'openpyxl')\n",
    "\n",
    "#Dictionary For Access to Dates\n",
    "Dates_Inv_volumes=list_inv_volumes.columns[2:]\n",
    "  \n",
    "# Creating Series Data for pptx Charts, Transpose all the columns starting in column 6,\n",
    "f1 = list_inv_volumes.iloc[:, 2:].T\n",
    "f2=f1.to_dict('series')\n",
    "\n",
    "# Series Data for Charts, you can use the other one to create pivot tables\n",
    "Labels=list_inv_volumes['Market']+'_'+list_inv_volumes['Asset Class']\n",
    "inv_vol_dict=dict()\n",
    "for i in f2.keys():\n",
    "    inv_vol_dict[list(Labels)[i]]=f2[i].fillna(0)"
   ]
  },
  {
   "cell_type": "code",
   "execution_count": 36,
   "metadata": {
    "code_folding": [
     0
    ]
   },
   "outputs": [],
   "source": [
    "# Loading Databank \"Bonds, IRs, Indexes, & MSCI\"\n",
    "Financial_Data=pd.read_excel(open(Databank_name,'rb'),sheet_name='Bonds, IRs, Indexes, & MSCI', header=1,index_col= False,engine = 'openpyxl')\n",
    "\n",
    "#Dictionary For Access to Dates\n",
    "Dates_Financial_Data=Financial_Data.columns[6:]\n",
    "  \n",
    "# Creating Series Data for pptx Charts, Transpose all the columns starting in column 6,\n",
    "f1 = Financial_Data.iloc[:, 6:].T\n",
    "f2=f1.to_dict('series')\n",
    "\n",
    "Labels=Financial_Data['Vehicle']+'_'+Financial_Data['Type']+'_'+Financial_Data['Geography']+'_'+Financial_Data['Sector']+'_'+Financial_Data['Metric']+'_'+Financial_Data['Source']\n",
    "Financial_Data_dict=dict()\n",
    "for i in f2.keys():\n",
    "    Financial_Data_dict[list(Labels)[i]]=f2[i]\n",
    "\n",
    "#Financial_Data_dict.keys()\n",
    "\n"
   ]
  },
  {
   "cell_type": "code",
   "execution_count": 37,
   "metadata": {
    "code_folding": [
     0
    ]
   },
   "outputs": [],
   "source": [
    "#Loading Databank \"YTD Sales Data\" \n",
    "Sales_Data=pd.read_excel(open(Databank_name,'rb'),sheet_name='Sales Comps - YTD', header=0,engine = 'openpyxl')\n",
    "Sales_Data_Tables=Sales_Data.filter(items=['Quarter','Sector','Transaction Name', 'Market ','Purchaser 1/ Purchaser 2/ Purchaser 3','Vendor 1/ Vendor 2/ Vendor 3','Adjusted Sale Price','Floor Area Acquired','Price PSF (Built Commercial)'])\n",
    "Sales_Data_Tables_Multifamily=Sales_Data.filter(items=['Quarter','Sector','Transaction Name', 'Market ','Purchaser 1/ Purchaser 2/ Purchaser 3','Vendor 1/ Vendor 2/ Vendor 3','Adjusted Sale Price','Number of Units','Price per Unit (MF)'])\n",
    "Sales_Data_Tables_Land=Sales_Data.filter(items=['Quarter','Sector','Transaction Name', 'Market ','Purchaser 1/ Purchaser 2/ Purchaser 3','Vendor 1/ Vendor 2/ Vendor 3','Adjusted Sale Price','Land Area','Price Per Acre (Land)'])\n",
    "\n",
    "#Sales Data Tables Sorted\n",
    "Table_Sorted=Sales_Data_Tables.sort_values(by=['Adjusted Sale Price'], ascending=False)\n",
    "Table_Sorted_Multifamily=Sales_Data_Tables_Multifamily.sort_values(by=['Adjusted Sale Price'], ascending=False)\n",
    "Table_Sorted_Land=Sales_Data_Tables_Multifamily.sort_values(by=['Adjusted Sale Price'], ascending=False)\n"
   ]
  },
  {
   "cell_type": "code",
   "execution_count": 38,
   "metadata": {
    "code_folding": [
     0
    ]
   },
   "outputs": [],
   "source": [
    "#Variables  from \"Valuation Parameters\"\n",
    "#dict_VP.keys()"
   ]
  },
  {
   "cell_type": "markdown",
   "metadata": {
    "tags": []
   },
   "source": [
    "#### Pivot Tables"
   ]
  },
  {
   "cell_type": "code",
   "execution_count": 39,
   "metadata": {},
   "outputs": [],
   "source": [
    "#pivot_ui(Sales_Data)"
   ]
  },
  {
   "cell_type": "markdown",
   "metadata": {},
   "source": [
    "### Creating Presentation"
   ]
  },
  {
   "cell_type": "code",
   "execution_count": 40,
   "metadata": {
    "code_folding": [
     0
    ]
   },
   "outputs": [],
   "source": [
    "#Using the Design of House View--Template\n",
    "#1. Open Presentation:\n",
    "prs=Presentation('Canadian_report_template.pptx')"
   ]
  },
  {
   "cell_type": "markdown",
   "metadata": {},
   "source": [
    "#### SLIDES # MONTREAL "
   ]
  },
  {
   "cell_type": "markdown",
   "metadata": {
    "tags": []
   },
   "source": [
    "##### Slide General/Industrial/Land"
   ]
  },
  {
   "cell_type": "code",
   "execution_count": 41,
   "metadata": {},
   "outputs": [],
   "source": [
    "lyt=prs.slide_layouts[4]\n",
    "slide=prs.slides.add_slide(lyt)\n",
    "\n",
    "#look at Place Holders\n",
    "#for shape in slide.placeholders:\n",
    "#     print('%d %s' % (shape.placeholder_format.idx, shape.name))\n",
    "\n",
    "#Save Slide Place Holders\n",
    "title_1,text_2,chart_1,chart_2,chart_3=slide.placeholders  "
   ]
  },
  {
   "cell_type": "code",
   "execution_count": 42,
   "metadata": {},
   "outputs": [],
   "source": [
    "# Slide - General | Industrial | Land\"\n",
    "title=slide.shapes.title\n",
    "title.text=\"Vancouver - General | Industrial | Land\"\n",
    "########################################################################################################################\n",
    "########################################################################################################################\n",
    "#Line Chart-  Cap Rates\n",
    "chart_data = CategoryChartData()\n",
    "chart_data.categories=list(Dates_capital_data)\n",
    "chart_data.add_series('Industrial',    fill_array(dict_VP['Industrial_Cap Rate_Multi Tenant_Vancouver_Overall']))\n",
    "chart_data.add_series('Multifamily',     fill_array(dict_VP['Multifamily_Cap Rate_Downtown _Vancouver_Overall']))\n",
    "chart_data.add_series('Office',   fill_array(dict_VP['Office_Cap Rate_Downtown _Vancouver_AA']))\n",
    "chart_data.add_series('Retail',  fill_array(dict_VP['Retail_Cap Rate_All Retail_Vancouver_Overall']))\n",
    "chart_data.add_series('GoC 10-yr',  fill_array(Financial_Data_dict['Canada 10 Year Benchmark Bond Yield -Bank of Canada 10 year bond yield_Bond_National_Bond_Interest Rate_Bank of Canada - Y Charts']))                            \n",
    "#Create Graph\n",
    "graphic_frame=chart_1.insert_chart(XL_CHART_TYPE.LINE, chart_data)\n",
    "Actual_graph=graphic_frame.chart                                                                                    \n",
    "#Chart title\n",
    "Actual_graph.chart_title.text_frame.text='Cap Rates by Asset Class'\n",
    "\n",
    "########################################################################################################################\n",
    "########################################################################################################################\n",
    "# Bar chart Industrial Investment Volumes and Sale price PSF\n",
    "\n",
    "chart_data = CategoryChartData()\n",
    "chart_data.categories=Dates_Inv_volumes\n",
    "chart_data.add_series('Total Investment', inv_vol_dict['Vancouver_Industrial'])\n",
    "chart_data.add_series('Multi Tenant',list(from_quarter_year(fill_array,Dates_capital_data,dict_VP['Industrial_Avg. Sale Price PSF_Multi Tenant_Vancouver_Overall'],number=9)))\n",
    "chart_data.add_series('Single Tenant',list(from_quarter_year(fill_array,Dates_capital_data,dict_VP['Industrial_Avg. Sale Price PSF_Single Tenant_Vancouver_Overall'],number=9)))\n",
    "\n",
    "#Create Graph\n",
    "graphic_frame=chart_2.insert_chart(XL_CHART_TYPE.COLUMN_CLUSTERED, chart_data)\n",
    "Actual_graph=graphic_frame.chart                                                                                    \n",
    "#Chart title\n",
    "Actual_graph.chart_title.text_frame.text='Industrial Investment Volumes and Sale price PSF'\n",
    "\n",
    "########################################################################################################################\n",
    "########################################################################################################################\n",
    "#Bar chart Industrial Investment Volumes and Sale price PSF\n",
    "chart_data = CategoryChartData()\n",
    "chart_data.categories=Dates_Inv_volumes\n",
    "chart_data.add_series('Total Investment', inv_vol_dict['Vancouver_Land'])\n",
    "#Create Graph\n",
    "graphic_frame=chart_3.insert_chart(XL_CHART_TYPE.COLUMN_CLUSTERED, chart_data)\n",
    "Actual_graph=graphic_frame.chart                                                                                    \n",
    "#Chart title\n",
    "Actual_graph.chart_title.text_frame.text='Land Investment Volumes'\n"
   ]
  },
  {
   "cell_type": "markdown",
   "metadata": {},
   "source": [
    "##### Slide Multifamily/Office/Retail"
   ]
  },
  {
   "cell_type": "code",
   "execution_count": 43,
   "metadata": {},
   "outputs": [],
   "source": [
    "lyt=prs.slide_layouts[4]\n",
    "slide=prs.slides.add_slide(lyt)\n",
    "\n",
    "#look at Place Holders\n",
    "#for shape in slide.placeholders:\n",
    "#     print('%d %s' % (shape.placeholder_format.idx, shape.name))\n",
    "\n",
    "#Save Slide Place Holders\n",
    "title_1,text_2,chart_1,chart_2,chart_3=slide.placeholders  "
   ]
  },
  {
   "cell_type": "code",
   "execution_count": 44,
   "metadata": {},
   "outputs": [],
   "source": [
    "# Slide - Multifamily/Office/Retail\"\n",
    "title=slide.shapes.title\n",
    "title.text=\"Vancouver - Multifamily | Office | Retail\"\n",
    "########################################################################################################################\n",
    "########################################################################################################################\n",
    "#Line Chart-  Cap Rates\n",
    "# Bar chart Industrial Investment Volumes and Sale price PSF\n",
    "chart_data = CategoryChartData()\n",
    "chart_data.categories=Dates_Inv_volumes\n",
    "chart_data.add_series('Total Investment', inv_vol_dict['Vancouver_Multifamily'])\n",
    "chart_data.add_series('Avg. PPU Downtown',list(from_quarter_year(fill_array,Dates_capital_data,dict_VP['Multifamily_Avg. Sale Price per Unit_Downtown _Vancouver_Overall'],number=9)))\n",
    "chart_data.add_series('Avg. PPU Suburban',list(from_quarter_year(fill_array,Dates_capital_data,dict_VP['Multifamily_Avg. Sale Price per Unit_Suburban_Vancouver_Overall'],number=9)))\n",
    "\n",
    "#Create Graph\n",
    "graphic_frame=chart_1.insert_chart(XL_CHART_TYPE.COLUMN_CLUSTERED, chart_data)\n",
    "Actual_graph=graphic_frame.chart                                                                                    \n",
    "#Chart title\n",
    "Actual_graph.chart_title.text_frame.text='Multifamily Investment Volumes and Sale price Per Unit'\n",
    "\n",
    "########################################################################################################################\n",
    "########################################################################################################################\n",
    "# Bar chart Office  Investment Volumes and Sale price PSF\n",
    "chart_data = CategoryChartData()\n",
    "chart_data.categories=Dates_Inv_volumes\n",
    "chart_data.add_series('Total Investment', inv_vol_dict['Vancouver_Office'])\n",
    "chart_data.add_series('Avg. PSF, Downtown',list(from_quarter_year(fill_array,Dates_capital_data,dict_VP['Office_Avg. Sale Price PSF_Downtown _Vancouver_AA'],number=9)) )\n",
    "chart_data.add_series('Avg. PSF, Suburban',list(from_quarter_year(fill_array,Dates_capital_data,dict_VP['Office_Avg. Sale Price PSF_Suburban_Vancouver_A'],number=9)) )\n",
    "\n",
    "#Create Graph\n",
    "graphic_frame=chart_2.insert_chart(XL_CHART_TYPE.COLUMN_CLUSTERED, chart_data)\n",
    "Actual_graph=graphic_frame.chart                                                                                    \n",
    "#Chart title\n",
    "Actual_graph.chart_title.text_frame.text='Office Investment Volumes and Sale price PSF'\n",
    "\n",
    "########################################################################################################################\n",
    "########################################################################################################################\n",
    "#Bar chart REtail Investment Volumes and Cap Rates\n",
    "chart_data = CategoryChartData()\n",
    "chart_data.categories=Dates_Inv_volumes\n",
    "chart_data.add_series('Total Investment', inv_vol_dict['Vancouver_Retail'])\n",
    "chart_data.add_series('Regional Malls',list(from_quarter_year(fill_array,Dates_capital_data,dict_VP['Retail_Cap Rate_Tier 1 Regional Mall_Vancouver_Overall'],number=9)) )\n",
    "chart_data.add_series('Power Center',list(from_quarter_year(fill_array,Dates_capital_data,dict_VP['Retail_Cap Rate_Power Centre_Vancouver_Overall'],number=9)) )\n",
    "chart_data.add_series('Food Anchored Strip',list(from_quarter_year(fill_array,Dates_capital_data,dict_VP['Retail_Cap Rate_Grocery Anchored Strip _Vancouver_Overall'],number=9)) )\n",
    "chart_data.add_series('Single Tenant',list(from_quarter_year(fill_array,Dates_capital_data,dict_VP['Retail_Cap Rate_Single Tenant Retail_Vancouver_Overall'],number=9)) )\n",
    "\n",
    "#Create Graph\n",
    "graphic_frame=chart_3.insert_chart(XL_CHART_TYPE.COLUMN_CLUSTERED, chart_data)\n",
    "Actual_graph=graphic_frame.chart                                                                                    \n",
    "#Chart title\n",
    "Actual_graph.chart_title.text_frame.text='Retail Investment Volumes and Cap Rates'\n"
   ]
  },
  {
   "cell_type": "code",
   "execution_count": 45,
   "metadata": {},
   "outputs": [],
   "source": [
    "#Save presentation\n",
    "prs.save(file_output_name)"
   ]
  },
  {
   "cell_type": "code",
   "execution_count": null,
   "metadata": {},
   "outputs": [],
   "source": []
  }
 ],
 "metadata": {
  "kernelspec": {
   "display_name": "Python 3",
   "language": "python",
   "name": "python3"
  },
  "language_info": {
   "codemirror_mode": {
    "name": "ipython",
    "version": 3
   },
   "file_extension": ".py",
   "mimetype": "text/x-python",
   "name": "python",
   "nbconvert_exporter": "python",
   "pygments_lexer": "ipython3",
   "version": "3.8.5"
  }
 },
 "nbformat": 4,
 "nbformat_minor": 4
}
