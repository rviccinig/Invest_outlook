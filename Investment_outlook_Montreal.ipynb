{
 "cells": [
  {
   "attachments": {
    "image-4.png": {
     "image/png": "[encoded data removed]"
    }
   },
   "cell_type": "markdown",
   "metadata": {},
   "source": [
    "<left><img src=\"attachment:image-4.png\"/></left>"
   ]
  },
  {
   "cell_type": "markdown",
   "metadata": {
    "tags": []
   },
   "source": [
    "## Investment Outlook -  All Markets"
   ]
  },
  {
   "cell_type": "markdown",
   "metadata": {
    "jp-MarkdownHeadingCollapsed": true,
    "tags": []
   },
   "source": [
    "#### USAGE GUIDE: \n",
    "\n",
    "0. LOAD VIRTUAL ENVIRONMENT geo_env\n",
    "1. VERY IMPORTANT!! MAKE THE DATABANK STRUCTURE REMAINS THE SAME EVERY QUARTER!!\n",
    "2. CHECK THE CONFIGURATION CELL BELOW AND CHANGE \"FILE OUTPUT NAME\" ,  \"DATABANK TO BE LOADED\"(FX. Q3 2021 DATABANK .XLX)\n",
    "3. LOAD ALL THE DATABASES AND CONVERT THEM IN DICTIONARIES\n",
    "4. CHECK THAT ALL THE SERIES MATCH THE TIME PERIOD\n",
    "5. All elements in series need to be the same format!! its not acceptable to have a string in the middle and number.\n",
    "6. All column names need to be in the same format(FX ('2021' is not the same as \" 2021\"))\n",
    "7. Always Start your code from prs=Presentation('Canadian_report_template.pptx') , to test the charts\n",
    "8. Always erase the file you output\n",
    "9. Check if there are any NaN in your you data.\n",
    "\n",
    "#### NOTE\n",
    "\n",
    "- Make sure the dictionary keys are the same! don't change that!\n",
    "- Using data from YTD requires that all observations in PSF are Numbers not Strings or Floats!\n",
    "\n",
    "\n",
    "#### HELP FILES FOR PANDAS AND PPTX  :\n",
    "\n",
    "- https://python-pptx.readthedocs.io/en/latest/user/placeholders-using.html\n",
    "- https://python-pptx.readthedocs.io/en/latest/user/charts.html\n",
    "- https://pandas.pydata.org/docs/reference/api/pandas.DataFrame.to_dict.html"
   ]
  },
  {
   "cell_type": "markdown",
   "metadata": {
    "tags": []
   },
   "source": [
    "#### Configuration:"
   ]
  },
  {
   "cell_type": "code",
   "execution_count": 1,
   "metadata": {
    "code_folding": [],
    "tags": []
   },
   "outputs": [],
   "source": [
    "Databank_name='Canada CM Databank - Q4 2021_v6.xlsx'\n",
    "file_output_name=\"Q4_2021_InVESTMENT_OUTLOOK.pptx\""
   ]
  },
  {
   "cell_type": "markdown",
   "metadata": {
    "tags": []
   },
   "source": [
    "#### Loading and Formatting the Databank: "
   ]
  },
  {
   "cell_type": "code",
   "execution_count": 2,
   "metadata": {
    "code_folding": [
     0
    ]
   },
   "outputs": [],
   "source": [
    "#Import Packages\n",
    "#Using the geo_env environment\n",
    "from pptx import Presentation\n",
    "from pptx.enum.shapes import MSO_SHAPE\n",
    "from pptx.dml.color import RGBColor\n",
    "from pptx.util import Inches, Pt\n",
    "from pptx.enum.dml import MSO_THEME_COLOR\n",
    "import numpy as np\n",
    "import pandas as pd\n",
    "from pptx.chart.data import CategoryChartData\n",
    "from pptx.enum.chart import XL_CHART_TYPE\n",
    "from pptx.chart.data import ChartData\n",
    "import numpy as np \n",
    "import datetime\n",
    "\n",
    "\n",
    "from pptx.dml.chtfmt import ChartFormat\n",
    "from pptx.enum.chart import (\n",
    "    XL_AXIS_CROSSES,\n",
    "    XL_CATEGORY_TYPE,\n",
    "    XL_TICK_LABEL_POSITION,\n",
    "    XL_TICK_MARK,\n",
    "    XL_LEGEND_POSITION\n",
    ")\n",
    "from pptx.oxml.ns import qn\n",
    "from pptx.oxml.simpletypes import ST_Orientation\n",
    "from pptx.shared import ElementProxy\n",
    "from pptx.text.text import Font, TextFrame\n",
    "from pptx.util import lazyproperty\n",
    "from pivottablejs import pivot_ui\n",
    "import ipypivot as pt"
   ]
  },
  {
   "cell_type": "code",
   "execution_count": 3,
   "metadata": {
    "code_folding": [
     0
    ]
   },
   "outputs": [],
   "source": [
    "#Filling the Array's NAN with value\n",
    "def fill_array(arr):\n",
    "    ind = np.where(~np.isnan(arr))[0]\n",
    "    first, last = ind[0], ind[-1]\n",
    "    arr[:first] = arr[first]\n",
    "    arr[last + 1:] = arr[last]\n",
    "    return arr\n",
    "\n",
    "#This only works for data that from the VP and Bonds, IRS , File 15 = 2016 in the VP series\n",
    "def from_quarter_year(fill_array,Dates_capital_data,series ,number=15):\n",
    "    Dates_Quarter = pd.to_datetime([f'{x[-4:]}{x[:2]}' for x in Dates_capital_data])\n",
    "    test=fill_array(series)\n",
    "    test.index=Dates_Quarter\n",
    "    Year=test.resample(\"Y\").last()[number:]\n",
    "    return Year\n"
   ]
  },
  {
   "cell_type": "code",
   "execution_count": 4,
   "metadata": {},
   "outputs": [],
   "source": [
    "#Loading Databank \"Valuation Parameters\" and Creating Panel\n",
    "capital_data=pd.read_excel(open(Databank_name,'rb'),sheet_name='Valuation Parameters', header=1,index_col= False,engine = 'openpyxl')\n",
    "#Creating a Dictionary to Access Columns , starts at column 6\n",
    "Dates_capital_data=capital_data.columns[6:]\n",
    "\n",
    "# Creating Series Data for pptx Charts, Transpose all the columns starting in column 6,\n",
    "f1 = capital_data.iloc[:, 6:].T\n",
    "f2=f1.to_dict('series')\n",
    "# Create Labels, put them as keys in the new dictionary dictionary_with_panel\n",
    "Labels=capital_data['Sector']+'_'+capital_data['Parameter']+'_'+capital_data['Sub-Type']+'_'+capital_data['Market']+'_'+capital_data['Class']\n",
    "dict_VP=dict()\n",
    "for i in f2.keys():\n",
    "        dict_VP[list(Labels)[i]]=f2[i]"
   ]
  },
  {
   "cell_type": "code",
   "execution_count": 5,
   "metadata": {
    "code_folding": [
     0
    ]
   },
   "outputs": [],
   "source": [
    "#Loading Databank \"Hist. Inv. Volumes\" and Data Structures Necesary\n",
    "list_inv_volumes=pd.read_excel(open(Databank_name,'rb'),sheet_name='Hist. Inv. Volumes', header=0,index_col= False,engine = 'openpyxl')\n",
    "\n",
    "#Dictionary For Access to Dates\n",
    "Dates_Inv_volumes=list_inv_volumes.columns[2:]\n",
    "  \n",
    "# Creating Series Data for pptx Charts, Transpose all the columns starting in column 6,\n",
    "f1 = list_inv_volumes.iloc[:, 2:].T\n",
    "f2=f1.to_dict('series')\n",
    "\n",
    "# Series Data for Charts, you can use the other one to create pivot tables\n",
    "Labels=list_inv_volumes['Market']+'_'+list_inv_volumes['Asset Class']\n",
    "inv_vol_dict=dict()\n",
    "for i in f2.keys():\n",
    "    inv_vol_dict[list(Labels)[i]]=f2[i].fillna(0)"
   ]
  },
  {
   "cell_type": "code",
   "execution_count": 6,
   "metadata": {
    "code_folding": [
     0
    ]
   },
   "outputs": [
    {
     "data": {
      "text/plain": [
       "dict_keys(['Canada 1 Year Treasury Bill Yield - Bank of Canada 1 year bond yield_Bond_National_Bond_Interest Rate_Bank of Canada - Y Charts', 'Canada 10 Year Benchmark Bond Yield -Bank of Canada 10 year bond yield_Bond_National_Bond_Interest Rate_Bank of Canada - Y Charts', 'Canada 2 Year Benchmark Bond Yield - Bank of Canada 2 year bond yield_Bond_National_Bond_Interest Rate_Bank of Canada - Y Charts', 'Canada 5 Year Benchmark Bond Yield - Bank of Canada 5 year bond yield_Bond_National_Bond_Interest Rate_Bank of Canada - Y Charts', 'Canada Target Overnight Rate - Bank of Canada Overnight Interest Rate_Interest Rate_National_Interest Rate_Interest Rate_Bank of Canada - Y Charts', 'Bank of Canada Prime Lending Rate_Interest Rate_National_Interest Rate_Interest Rate_Bank of Canada - Y Charts', 'CMHC_Interest Rate_National_Mortgage_Interest Rate_Bank of Canada', 'Commercial Mortgage Rate - 10 Yr_Interest Rate_National_Mortgage_Interest Rate_Bank of Canada', 'Commercial Mortgage Rate - 5 Yr_Interest Rate_National_Mortgage_Interest Rate_Bank of Canada', 'MSCI/Realpac Index_Annual Return: Capital Growth _Calgary_All_Return_MSCI', 'MSCI/Realpac Index_Annual Return: income Growth_Calgary_All_Return_MSCI', 'MSCI/Realpac Index_Annual Return: Total_Calgary_All_Return_MSCI', 'MSCI/Realpac Index_Annual Return: Capital Growth _Calgary_Industrial_Return_MSCI', 'MSCI/Realpac Index_Annual Return: income Growth_Calgary_Industrial_Return_MSCI', 'MSCI/Realpac Index_Annual Return: Total_Calgary_Industrial_Return_MSCI', 'MSCI/Realpac Index_Annual Return: Capital Growth _Calgary_Office_Return_MSCI', 'MSCI/Realpac Index_Annual Return: income Growth_Calgary_Office_Return_MSCI', 'MSCI/Realpac Index_Annual Return: Total_Calgary_Office_Return_MSCI', 'MSCI/Realpac Index_Annual Return: Capital Growth _Calgary_Residential_Return_MSCI', 'MSCI/Realpac Index_Annual Return: income Growth_Calgary_Residential_Return_MSCI', 'MSCI/Realpac Index_Annual Return: Total_Calgary_Residential_Return_MSCI', 'MSCI/Realpac Index_Annual Return: Capital Growth _Calgary_Retail_Return_MSCI', 'MSCI/Realpac Index_Annual Return: income Growth_Calgary_Retail_Return_MSCI', 'MSCI/Realpac Index_Annual Return: Total_Calgary_Retail_Return_MSCI', 'MSCI/Realpac Index_Annual Return: Capital Growth _Edmonton_All_Return_MSCI', 'MSCI/Realpac Index_Annual Return: income Growth_Edmonton_All_Return_MSCI', 'MSCI/Realpac Index_Annual Return: Total_Edmonton_All_Return_MSCI', 'MSCI/Realpac Index_Annual Return: Capital Growth _Edmonton_Industrial_Return_MSCI', 'MSCI/Realpac Index_Annual Return: income Growth_Edmonton_Industrial_Return_MSCI', 'MSCI/Realpac Index_Annual Return: Total_Edmonton_Industrial_Return_MSCI', 'MSCI/Realpac Index_Annual Return: Capital Growth _Edmonton_Office_Return_MSCI', 'MSCI/Realpac Index_Annual Return: income Growth_Edmonton_Office_Return_MSCI', 'MSCI/Realpac Index_Annual Return: Total_Edmonton_Office_Return_MSCI', 'MSCI/Realpac Index_Annual Return: Capital Growth _Edmonton_Residential_Return_MSCI', 'MSCI/Realpac Index_Annual Return: income Growth_Edmonton_Residential_Return_MSCI', 'MSCI/Realpac Index_Annual Return: Total_Edmonton_Residential_Return_MSCI', 'MSCI/Realpac Index_Annual Return: Capital Growth _Edmonton_Retail_Return_MSCI', 'MSCI/Realpac Index_Annual Return: income Growth_Edmonton_Retail_Return_MSCI', 'MSCI/Realpac Index_Annual Return: Total_Edmonton_Retail_Return_MSCI', 'MSCI/Realpac Index_Annual Return: Capital Growth _Halifax_All_Return_MSCI', 'MSCI/Realpac Index_Annual Return: income Growth_Halifax_All_Return_MSCI', 'MSCI/Realpac Index_Annual Return: Total_Halifax_All_Return_MSCI', 'MSCI/Realpac Index_Annual Return: Capital Growth _Halifax_Industrial_Return_MSCI', 'MSCI/Realpac Index_Annual Return: income Growth_Halifax_Industrial_Return_MSCI', 'MSCI/Realpac Index_Annual Return: Total_Halifax_Industrial_Return_MSCI', 'MSCI/Realpac Index_Annual Return: Capital Growth _Halifax_Office_Return_MSCI', 'MSCI/Realpac Index_Annual Return: income Growth_Halifax_Office_Return_MSCI', 'MSCI/Realpac Index_Annual Return: Total_Halifax_Office_Return_MSCI', 'MSCI/Realpac Index_Annual Return: Capital Growth _Halifax_Residential_Return_MSCI', 'MSCI/Realpac Index_Annual Return: income Growth_Halifax_Residential_Return_MSCI', 'MSCI/Realpac Index_Annual Return: Total_Halifax_Residential_Return_MSCI', 'MSCI/Realpac Index_Annual Return: Capital Growth _Halifax_Retail_Return_MSCI', 'MSCI/Realpac Index_Annual Return: income Growth_Halifax_Retail_Return_MSCI', 'MSCI/Realpac Index_Annual Return: Total_Halifax_Retail_Return_MSCI', 'MSCI/Realpac Index_Annual Return: Capital Growth _Montreal_All_Return_MSCI', 'MSCI/Realpac Index_Annual Return: income Growth_Montreal_All_Return_MSCI', 'MSCI/Realpac Index_Annual Return: Total_Montreal_All_Return_MSCI', 'MSCI/Realpac Index_Annual Return: Capital Growth _Montreal_Industrial_Return_MSCI', 'MSCI/Realpac Index_Annual Return: income Growth_Montreal_Industrial_Return_MSCI', 'MSCI/Realpac Index_Annual Return: Total_Montreal_Industrial_Return_MSCI', 'MSCI/Realpac Index_Annual Return: Capital Growth _Montreal_Office_Return_MSCI', 'MSCI/Realpac Index_Annual Return: income Growth_Montreal_Office_Return_MSCI', 'MSCI/Realpac Index_Annual Return: Total_Montreal_Office_Return_MSCI', 'MSCI/Realpac Index_Annual Return: Capital Growth _Montreal_Residential_Return_MSCI', 'MSCI/Realpac Index_Annual Return: income Growth_Montreal_Residential_Return_MSCI', 'MSCI/Realpac Index_Annual Return: Total_Montreal_Residential_Return_MSCI', 'MSCI/Realpac Index_Annual Return: Capital Growth _Montreal_Retail_Return_MSCI', 'MSCI/Realpac Index_Annual Return: income Growth_Montreal_Retail_Return_MSCI', 'MSCI/Realpac Index_Annual Return: Total_Montreal_Retail_Return_MSCI', 'MSCI/Realpac Index_Annual Return: Capital Growth _National_All_Return_MSCI', 'MSCI/Realpac Index_Annual Return: income Growth_National_All_Return_MSCI', 'MSCI/Realpac Index_Annual Return: Total_National_All_Return_MSCI', 'MSCI/Realpac Index_Annual Return: Capital Growth _National_Industrial_Return_MSCI', 'MSCI/Realpac Index_Annual Return: income Growth_National_Industrial_Return_MSCI', 'MSCI/Realpac Index_Annual Return: Total_National_Industrial_Return_MSCI', 'MSCI/Realpac Index_Annual Return: Capital Growth _National_Office_Return_MSCI', 'MSCI/Realpac Index_Annual Return: income Growth_National_Office_Return_MSCI', 'MSCI/Realpac Index_Annual Return: Total_National_Office_Return_MSCI', 'MSCI/Realpac Index_Annual Return: Capital Growth _National_Residential_Return_MSCI', 'MSCI/Realpac Index_Annual Return: income Growth_National_Residential_Return_MSCI', 'MSCI/Realpac Index_Annual Return: Total_National_Residential_Return_MSCI', 'MSCI/Realpac Index_Annual Return: Capital Growth _National_Retail_Return_MSCI', 'MSCI/Realpac Index_Annual Return: income Growth_National_Retail_Return_MSCI', 'MSCI/Realpac Index_Annual Return: Total_National_Retail_Return_MSCI', 'MSCI/Realpac Index_Annual Return: Capital Growth _Ottawa_All_Return_MSCI', 'MSCI/Realpac Index_Annual Return: income Growth_Ottawa_All_Return_MSCI', 'MSCI/Realpac Index_Annual Return: Total_Ottawa_All_Return_MSCI', 'MSCI/Realpac Index_Annual Return: Capital Growth _Ottawa_Industrial_Return_MSCI', 'MSCI/Realpac Index_Annual Return: income Growth_Ottawa_Industrial_Return_MSCI', 'MSCI/Realpac Index_Annual Return: Total_Ottawa_Industrial_Return_MSCI', 'MSCI/Realpac Index_Annual Return: Capital Growth _Ottawa_Office_Return_MSCI', 'MSCI/Realpac Index_Annual Return: income Growth_Ottawa_Office_Return_MSCI', 'MSCI/Realpac Index_Annual Return: Total_Ottawa_Office_Return_MSCI', 'MSCI/Realpac Index_Annual Return: Capital Growth _Ottawa_Residential_Return_MSCI', 'MSCI/Realpac Index_Annual Return: income Growth_Ottawa_Residential_Return_MSCI', 'MSCI/Realpac Index_Annual Return: Total_Ottawa_Residential_Return_MSCI', 'MSCI/Realpac Index_Annual Return: Capital Growth _Ottawa_Retail_Return_MSCI', 'MSCI/Realpac Index_Annual Return: income Growth_Ottawa_Retail_Return_MSCI', 'MSCI/Realpac Index_Annual Return: Total_Ottawa_Retail_Return_MSCI', 'MSCI/Realpac Index_Annual Return: Capital Growth _Regina_All_Return_MSCI', 'MSCI/Realpac Index_Annual Return: income Growth_Regina_All_Return_MSCI', 'MSCI/Realpac Index_Annual Return: Total_Regina_All_Return_MSCI', 'MSCI/Realpac Index_Annual Return: Capital Growth _Regina_Retail_Return_MSCI', 'MSCI/Realpac Index_Annual Return: income Growth_Regina_Retail_Return_MSCI', 'MSCI/Realpac Index_Annual Return: Total_Regina_Retail_Return_MSCI', 'MSCI/Realpac Index_Annual Return: Capital Growth _Toronto_All_Return_MSCI', 'MSCI/Realpac Index_Annual Return: income Growth_Toronto_All_Return_MSCI', 'MSCI/Realpac Index_Annual Return: Total_Toronto_All_Return_MSCI', 'MSCI/Realpac Index_Annual Return: Capital Growth _Toronto_Industrial_Return_MSCI', 'MSCI/Realpac Index_Annual Return: income Growth_Toronto_Industrial_Return_MSCI', 'MSCI/Realpac Index_Annual Return: Total_Toronto_Industrial_Return_MSCI', 'MSCI/Realpac Index_Annual Return: Capital Growth _Toronto_Office_Return_MSCI', 'MSCI/Realpac Index_Annual Return: income Growth_Toronto_Office_Return_MSCI', 'MSCI/Realpac Index_Annual Return: Total_Toronto_Office_Return_MSCI', 'MSCI/Realpac Index_Annual Return: Capital Growth _Toronto_Residential_Return_MSCI', 'MSCI/Realpac Index_Annual Return: income Growth_Toronto_Residential_Return_MSCI', 'MSCI/Realpac Index_Annual Return: Total_Toronto_Residential_Return_MSCI', 'MSCI/Realpac Index_Annual Return: Capital Growth _Toronto_Retail_Return_MSCI', 'MSCI/Realpac Index_Annual Return: income Growth_Toronto_Retail_Return_MSCI', 'MSCI/Realpac Index_Annual Return: Total_Toronto_Retail_Return_MSCI', 'MSCI/Realpac Index_Annual Return: Capital Growth _Vancouver_All_Return_MSCI', 'MSCI/Realpac Index_Annual Return: income Growth_Vancouver_All_Return_MSCI', 'MSCI/Realpac Index_Annual Return: Total_Vancouver_All_Return_MSCI', 'MSCI/Realpac Index_Annual Return: Capital Growth _Vancouver_Industrial_Return_MSCI', 'MSCI/Realpac Index_Annual Return: income Growth_Vancouver_Industrial_Return_MSCI', 'MSCI/Realpac Index_Annual Return: Total_Vancouver_Industrial_Return_MSCI', 'MSCI/Realpac Index_Annual Return: Capital Growth _Vancouver_Office_Return_MSCI', 'MSCI/Realpac Index_Annual Return: income Growth_Vancouver_Office_Return_MSCI', 'MSCI/Realpac Index_Annual Return: Total_Vancouver_Office_Return_MSCI', 'MSCI/Realpac Index_Annual Return: Capital Growth _Vancouver_Residential_Return_MSCI', 'MSCI/Realpac Index_Annual Return: income Growth_Vancouver_Residential_Return_MSCI', 'MSCI/Realpac Index_Annual Return: Total_Vancouver_Residential_Return_MSCI', 'MSCI/Realpac Index_Annual Return: Capital Growth _Vancouver_Retail_Return_MSCI', 'MSCI/Realpac Index_Annual Return: income Growth_Vancouver_Retail_Return_MSCI', 'MSCI/Realpac Index_Annual Return: Total_Vancouver_Retail_Return_MSCI', 'MSCI/Realpac Index_Annual Return: Capital Growth _Victoria_All_Return_MSCI', 'MSCI/Realpac Index_Annual Return: income Growth_Victoria_All_Return_MSCI', 'MSCI/Realpac Index_Annual Return: Total_Victoria_All_Return_MSCI', 'MSCI/Realpac Index_Annual Return: Capital Growth _Victoria_Office_Return_MSCI', 'MSCI/Realpac Index_Annual Return: income Growth_Victoria_Office_Return_MSCI', 'MSCI/Realpac Index_Annual Return: Total_Victoria_Office_Return_MSCI', 'MSCI/Realpac Index_Annual Return: Capital Growth _Victoria_Residential_Return_MSCI', 'MSCI/Realpac Index_Annual Return: income Growth_Victoria_Residential_Return_MSCI', 'MSCI/Realpac Index_Annual Return: Total_Victoria_Residential_Return_MSCI', 'MSCI/Realpac Index_Annual Return: Capital Growth _Victoria_Retail_Return_MSCI', 'MSCI/Realpac Index_Annual Return: income Growth_Victoria_Retail_Return_MSCI', 'MSCI/Realpac Index_Annual Return: Total_Victoria_Retail_Return_MSCI', 'MSCI/Realpac Index_Annual Return: Capital Growth _Winnipeg_All_Return_MSCI', 'MSCI/Realpac Index_Annual Return: income Growth_Winnipeg_All_Return_MSCI', 'MSCI/Realpac Index_Annual Return: Total_Winnipeg_All_Return_MSCI', 'MSCI/Realpac Index_Annual Return: Capital Growth _Winnipeg_Industrial_Return_MSCI', 'MSCI/Realpac Index_Annual Return: income Growth_Winnipeg_Industrial_Return_MSCI', 'MSCI/Realpac Index_Annual Return: Total_Winnipeg_Industrial_Return_MSCI', 'MSCI/Realpac Index_Annual Return: Capital Growth _Winnipeg_Office_Return_MSCI', 'MSCI/Realpac Index_Annual Return: income Growth_Winnipeg_Office_Return_MSCI', 'MSCI/Realpac Index_Annual Return: Total_Winnipeg_Office_Return_MSCI', 'MSCI/Realpac Index_Annual Return: Capital Growth _Winnipeg_Retail_Return_MSCI', 'MSCI/Realpac Index_Annual Return: income Growth_Winnipeg_Retail_Return_MSCI', 'MSCI/Realpac Index_Annual Return: Total_Winnipeg_Retail_Return_MSCI', 'ZRE.TO  - BMO Equal Weights REITs Index ETF_ETF_National_ETF_Price_Y Charts', 'RIT.TO - First Asset Canadian REIT ETF Composite_ETF_National_ETF_Price_Y Charts', 'HGR.TO - Harvest Global REIT Leaders_ETF_National_ETF_Price_Y Charts', 'REIT.TO - Invesco S&P/TSX REIT Income Index_ETF_National_ETF_Price_Y Charts', 'REET - iShares Global Real Estate Index ETF_ETF_National_ETF_Price_Y Charts', 'XRE.TO - iShares S&P/TSX Capped REIT Index_ETF_National_ETF_Price_Y Charts', 'Purpose Duration Hedged Real Estate _ETF_National_ETF_Price_Y Charts', 'RGRE.U.TO - RBC Quant Global Real Estate _ETF_National_ETF_Price_Y Charts', 'SCGR.NO -Starlight Global Real Estate Fund ETF_ETF_National_ETF_Price_Y Charts', 'VRE.TO - Vanguard FTSE Canadian Capped REIT Index_ETF_National_ETF_Price_Y Charts', '^GSPRTRE -S&P / TSX Capped REIT Index_Index_National_Index_Level_Y Charts', 'S&P / TSX Capped REIT Index_Index_National_Index_Quarterly Change_Y Charts', '^TSX -S&P / TSX Composite_Index_National_Index_Level_Y Charts', 'S&P / TSX Composite_Index_National_Index_Quarterly Change_Y Charts'])"
      ]
     },
     "execution_count": 6,
     "metadata": {},
     "output_type": "execute_result"
    }
   ],
   "source": [
    "# Loading Databank \"Bonds, IRs, Indexes, & MSCI\"\n",
    "Financial_Data=pd.read_excel(open(Databank_name,'rb'),sheet_name='Bonds, IRs, Indexes, & MSCI', header=1,index_col= False,engine = 'openpyxl')\n",
    "\n",
    "#Dictionary For Access to Dates\n",
    "Dates_Financial_Data=Financial_Data.columns[6:]\n",
    "  \n",
    "# Creating Series Data for pptx Charts, Transpose all the columns starting in column 6,\n",
    "f1 = Financial_Data.iloc[:, 6:].T\n",
    "f2=f1.to_dict('series')\n",
    "\n",
    "Labels=Financial_Data['Vehicle']+'_'+Financial_Data['Type']+'_'+Financial_Data['Geography']+'_'+Financial_Data['Sector']+'_'+Financial_Data['Metric']+'_'+Financial_Data['Source']\n",
    "Financial_Data_dict=dict()\n",
    "for i in f2.keys():\n",
    "    Financial_Data_dict[list(Labels)[i]]=f2[i]\n",
    "\n",
    "Financial_Data_dict.keys()\n",
    "\n"
   ]
  },
  {
   "cell_type": "code",
   "execution_count": 7,
   "metadata": {
    "code_folding": [
     0
    ]
   },
   "outputs": [],
   "source": [
    "#Loading Databank \"YTD Sales Data\" \n",
    "Sales_Data=pd.read_excel(open(Databank_name,'rb'),sheet_name='Sales Comps - YTD', header=0,engine = 'openpyxl')\n",
    "Sales_Data_Tables=Sales_Data.filter(items=['Quarter','Sector','Transaction Name', 'Market ','Purchaser 1/ Purchaser 2/ Purchaser 3','Vendor 1/ Vendor 2/ Vendor 3','Adjusted Sale Price','Floor Area Acquired','Price PSF (Built Commercial)'])\n",
    "Sales_Data_Tables_Multifamily=Sales_Data.filter(items=['Quarter','Sector','Transaction Name', 'Market ','Purchaser 1/ Purchaser 2/ Purchaser 3','Vendor 1/ Vendor 2/ Vendor 3','Adjusted Sale Price','Number of Units','Price per Unit (MF)'])\n",
    "Sales_Data_Tables_Land=Sales_Data.filter(items=['Quarter','Sector','Transaction Name', 'Market ','Purchaser 1/ Purchaser 2/ Purchaser 3','Vendor 1/ Vendor 2/ Vendor 3','Adjusted Sale Price','Land Area','Price Per Acre (Land)'])\n",
    "\n",
    "#Sales Data Tables Sorted\n",
    "Table_Sorted=Sales_Data_Tables.sort_values(by=['Adjusted Sale Price'], ascending=False)\n",
    "Table_Sorted_Multifamily=Sales_Data_Tables_Multifamily.sort_values(by=['Adjusted Sale Price'], ascending=False)\n",
    "Table_Sorted_Land=Sales_Data_Tables_Multifamily.sort_values(by=['Adjusted Sale Price'], ascending=False)\n"
   ]
  },
  {
   "cell_type": "code",
   "execution_count": null,
   "metadata": {},
   "outputs": [],
   "source": []
  },
  {
   "cell_type": "code",
   "execution_count": 8,
   "metadata": {
    "code_folding": [
     0
    ]
   },
   "outputs": [
    {
     "data": {
      "text/plain": [
       "dict_keys(['Industrial_Average Net Rent_Multi Tenant_Calgary_Overall', 'Industrial_Average Net Rent_Multi Tenant_Edmonton_Overall', 'Industrial_Average Net Rent_Multi Tenant_Montreal_Overall', 'Industrial_Average Net Rent_Multi Tenant_National_Overall', 'Industrial_Average Net Rent_Multi Tenant_Ottawa-Gatineau_Overall', 'Industrial_Average Net Rent_Multi Tenant_Toronto_Overall', 'Industrial_Average Net Rent_Multi Tenant_Vancouver_Overall', 'Industrial_Average Net Rent_Overall_Calgary_Overall', 'Industrial_Average Net Rent_Overall_Edmonton_Overall', 'Industrial_Average Net Rent_Overall_Halifax_Overall', 'Industrial_Average Net Rent_Overall_Waterloo Region_Overall', 'Industrial_Average Net Rent_Overall_Montreal_Overall', 'Industrial_Average Net Rent_Overall_National_Overall', 'Industrial_Average Net Rent_Overall_Ottawa-Gatineau_Overall', 'Industrial_Average Net Rent_Overall_Toronto_Overall', 'Industrial_Average Net Rent_Overall_Vancouver_Overall', 'Industrial_Average Net Rent_Overall_Winnipeg_Overall', 'Industrial_Average Net Rent_Single Tenant_Calgary_Overall', 'Industrial_Average Net Rent_Single Tenant_Edmonton_Overall', 'Industrial_Average Net Rent_Single Tenant_Montreal_Overall', 'Industrial_Average Net Rent_Single Tenant_National_Overall', 'Industrial_Average Net Rent_Single Tenant_Ottawa-Gatineau_Overall', 'Industrial_Average Net Rent_Single Tenant_Toronto_Overall', 'Industrial_Average Net Rent_Single Tenant_Vancouver_Overall', 'Industrial_Avg. Sale Price PSF_Multi Tenant_Calgary_Overall', 'Industrial_Avg. Sale Price PSF_Multi Tenant_Edmonton_Overall', 'Industrial_Avg. Sale Price PSF_Multi Tenant_Halifax_Overall', 'Industrial_Avg. Sale Price PSF_Multi Tenant_Montreal_Overall', 'Industrial_Avg. Sale Price PSF_Multi Tenant_National_Overall', 'Industrial_Avg. Sale Price PSF_Multi Tenant_Ottawa-Gatineau_Overall', 'Industrial_Avg. Sale Price PSF_Multi Tenant_Quebec City_Overall', 'Industrial_Avg. Sale Price PSF_Multi Tenant_Toronto_Overall', 'Industrial_Avg. Sale Price PSF_Multi Tenant_Vancouver_Overall', 'Industrial_Avg. Sale Price PSF_Overall_National_Overall', 'Industrial_Avg. Sale Price PSF_Single Tenant_Calgary_Overall', 'Industrial_Avg. Sale Price PSF_Single Tenant_Edmonton_Overall', 'Industrial_Avg. Sale Price PSF_Single Tenant_Halifax_Overall', 'Industrial_Avg. Sale Price PSF_Single Tenant_Montreal_Overall', 'Industrial_Avg. Sale Price PSF_Single Tenant_National_Overall', 'Industrial_Avg. Sale Price PSF_Single Tenant_Ottawa-Gatineau_Overall', 'Industrial_Avg. Sale Price PSF_Single Tenant_Quebec City_Overall', 'Industrial_Avg. Sale Price PSF_Single Tenant_Toronto_Overall', 'Industrial_Avg. Sale Price PSF_Single Tenant_Vancouver_Overall', 'Industrial_Cap Rate_Multi Tenant_Calgary_Overall', 'Industrial_Cap Rate_Multi Tenant_Edmonton_Overall', 'Industrial_Cap Rate_Multi Tenant_Halifax_Overall', 'Industrial_Cap Rate_Multi Tenant_Waterloo Region_Overall', 'Industrial_Cap Rate_Multi Tenant_Montreal_Overall', 'Industrial_Cap Rate_Multi Tenant_National_Overall', 'Industrial_Cap Rate_Multi Tenant_Ottawa-Gatineau_Overall', 'Industrial_Cap Rate_Multi Tenant_Quebec City_Overall', 'Industrial_Cap Rate_Multi Tenant_Toronto_Overall', 'Industrial_Cap Rate_Multi Tenant_Vancouver_Overall', 'Industrial_Cap Rate_Overall_National_Overall', 'Industrial_Cap Rate_Single Tenant_Calgary_Overall', 'Industrial_Cap Rate_Single Tenant_Edmonton_Overall', 'Industrial_Cap Rate_Single Tenant_Halifax_Overall', 'Industrial_Cap Rate_Single Tenant_Waterloo Region_Overall', 'Industrial_Cap Rate_Single Tenant_Montreal_Overall', 'Industrial_Cap Rate_Single Tenant_National_Overall', 'Industrial_Cap Rate_Single Tenant_Ottawa-Gatineau_Overall', 'Industrial_Cap Rate_Single Tenant_Quebec City_Overall', 'Industrial_Cap Rate_Single Tenant_Toronto_Overall', 'Industrial_Cap Rate_Single Tenant_Vancouver_Overall', 'Industrial_Contruction Completions (s.f.)_Overall_Calgary_Overall', 'Industrial_Contruction Completions (s.f.)_Overall_Edmonton_Overall', 'Industrial_Contruction Completions (s.f.)_Overall_Halifax_Overall', 'Industrial_Contruction Completions (s.f.)_Overall_Waterloo Region_Overall', 'Industrial_Contruction Completions (s.f.)_Overall_Montreal_Overall', 'Industrial_Contruction Completions (s.f.)_Overall_National_Overall', 'Industrial_Contruction Completions (s.f.)_Overall_Ottawa-Gatineau_Overall', 'Industrial_Contruction Completions (s.f.)_Overall_Toronto_Overall', 'Industrial_Contruction Completions (s.f.)_Overall_Vancouver_Overall', 'Industrial_Contruction Completions (s.f.)_Overall_Winnipeg_Overall', 'Industrial_Inventory (s.f.)_Overall_Calgary_Overall', 'Industrial_Inventory (s.f.)_Overall_Edmonton_Overall', 'Industrial_Inventory (s.f.)_Overall_Halifax_Overall', 'Industrial_Inventory (s.f.)_Overall_Waterloo Region_Overall', 'Industrial_Inventory (s.f.)_Overall_Montreal_Overall', 'Industrial_Inventory (s.f.)_Overall_National_Overall', 'Industrial_Inventory (s.f.)_Overall_Ottawa-Gatineau_Overall', 'Industrial_Inventory (s.f.)_Overall_Toronto_Overall', 'Industrial_Inventory (s.f.)_Overall_Vancouver_Overall', 'Industrial_Inventory (s.f.)_Overall_Winnipeg_Overall', 'Industrial_IRR_Multi Tenant_Calgary_Overall', 'Industrial_IRR_Multi Tenant_Edmonton_Overall', 'Industrial_IRR_Multi Tenant_Halifax_Overall', 'Industrial_IRR_Multi Tenant_Waterloo Region_Overall', 'Industrial_IRR_Multi Tenant_Montreal_Overall', 'Industrial_IRR_Multi Tenant_National_Overall', 'Industrial_IRR_Multi Tenant_Ottawa-Gatineau_Overall', 'Industrial_IRR_Multi Tenant_Quebec City_Overall', 'Industrial_IRR_Multi Tenant_Toronto_Overall', 'Industrial_IRR_Multi Tenant_Vancouver_Overall', 'Industrial_IRR_Overall_National_Overall', 'Industrial_IRR_Single Tenant_Calgary_Overall', 'Industrial_IRR_Single Tenant_Edmonton_Overall', 'Industrial_IRR_Single Tenant_Halifax_Overall', 'Industrial_IRR_Single Tenant_Montreal_Overall', 'Industrial_IRR_Single Tenant_National_Overall', 'Industrial_IRR_Single Tenant_Ottawa-Gatineau_Overall', 'Industrial_IRR_Single Tenant_Quebec City_Overall', 'Industrial_IRR_Single Tenant_Toronto_Overall', 'Industrial_IRR_Single Tenant_Vancouver_Overall', 'Industrial_Net Absorption (s.f.)_Overall_Calgary_Overall', 'Industrial_Net Absorption (s.f.)_Overall_Halifax_Overall', 'Industrial_Net Absorption (s.f.)_Overall_Waterloo Region_Overall', 'Industrial_Net Absorption (s.f.)_Overall_Edmonton_Overall', 'Industrial_Net Absorption (s.f.)_Overall_Montreal_Overall', 'Industrial_Net Absorption (s.f.)_Overall_National_Overall', 'Industrial_Net Absorption (s.f.)_Overall_Ottawa-Gatineau_Overall', 'Industrial_Net Absorption (s.f.)_Overall_Toronto_Overall', 'Industrial_Net Absorption (s.f.)_Overall_Vancouver_Overall', 'Industrial_Net Absorption (s.f.)_Overall_Winnipeg_Overall', 'Industrial_Terminal Cap Rate_Multi Tenant_Calgary_Overall', 'Industrial_Terminal Cap Rate_Multi Tenant_Edmonton_Overall', 'Industrial_Terminal Cap Rate_Multi Tenant_Halifax_Overall', 'Industrial_Terminal Cap Rate_Multi Tenant_Waterloo Region_Overall', 'Industrial_Terminal Cap Rate_Multi Tenant_Montreal_Overall', 'Industrial_Terminal Cap Rate_Multi Tenant_National_Overall', 'Industrial_Terminal Cap Rate_Multi Tenant_Ottawa-Gatineau_Overall', 'Industrial_Terminal Cap Rate_Multi Tenant_Quebec City_Overall', 'Industrial_Terminal Cap Rate_Multi Tenant_Toronto_Overall', 'Industrial_Terminal Cap Rate_Multi Tenant_Vancouver_Overall', 'Industrial_Terminal Cap Rate_Overall_National_Overall', 'Industrial_Terminal Cap Rate_Single Tenant_Calgary_Overall', 'Industrial_Terminal Cap Rate_Single Tenant_Edmonton_Overall', 'Industrial_Terminal Cap Rate_Single Tenant_Halifax_Overall', 'Industrial_Terminal Cap Rate_Single Tenant_Waterloo Region_Overall', 'Industrial_Terminal Cap Rate_Single Tenant_Montreal_Overall', 'Industrial_Terminal Cap Rate_Single Tenant_National_Overall', 'Industrial_Terminal Cap Rate_Single Tenant_Ottawa-Gatineau_Overall', 'Industrial_Terminal Cap Rate_Single Tenant_Quebec City_Overall', 'Industrial_Terminal Cap Rate_Single Tenant_Toronto_Overall', 'Industrial_Terminal Cap Rate_Single Tenant_Vancouver_Overall', 'Industrial_Total Availability (%)_Overall_Calgary_Overall', 'Industrial_Total Availability (%)_Overall_Edmonton_Overall', 'Industrial_Total Availability (%)_Overall_Halifax_Overall', 'Industrial_Total Availability (%)_Overall_Waterloo Region_Overall', 'Industrial_Total Availability (%)_Overall_Montreal_Overall', 'Industrial_Total Availability (%)_Overall_National_Overall', 'Industrial_Total Availability (%)_Overall_Ottawa-Gatineau_Overall', 'Industrial_Total Availability (%)_Overall_Toronto_Overall', 'Industrial_Total Availability (%)_Overall_Vancouver_Overall', 'Industrial_Total Availability (%)_Overall_Winnipeg_Overall', 'Industrial_Total Availability (s.f.)_Overall_Calgary_Overall', 'Industrial_Total Availability (s.f.)_Overall_Edmonton_Overall', 'Industrial_Total Availability (s.f.)_Overall_Halifax_Overall', 'Industrial_Total Availability (s.f.)_Overall_Waterloo Region_Overall', 'Industrial_Total Availability (s.f.)_Overall_Montreal_Overall', 'Industrial_Total Availability (s.f.)_Overall_National_Overall', 'Industrial_Total Availability (s.f.)_Overall_Ottawa-Gatineau_Overall', 'Industrial_Total Availability (s.f.)_Overall_Toronto_Overall', 'Industrial_Total Availability (s.f.)_Overall_Vancouver_Overall', 'Industrial_Total Availability (s.f.)_Overall_Winnipeg_Overall', 'Industrial_Total Vacancy (s.f.)_Overall_Calgary_Overall', 'Industrial_Total Vacancy (s.f.)_Overall_Edmonton_Overall', 'Industrial_Total Vacancy (s.f.)_Overall_Halifax_Overall', 'Industrial_Total Vacancy (s.f.)_Overall_Waterloo Region_Overall', 'Industrial_Total Vacancy (s.f.)_Overall_Montreal_Overall', 'Industrial_Total Vacancy (s.f.)_Overall_National_Overall', 'Industrial_Total Vacancy (s.f.)_Overall_Ottawa-Gatineau_Overall', 'Industrial_Total Vacancy (s.f.)_Overall_Toronto_Overall', 'Industrial_Total Vacancy (s.f.)_Overall_Vancouver_Overall', 'Industrial_Total Vacancy (s.f.)_Overall_Winnipeg_Overall', 'Industrial_Under Construction (s.f.)_Overall_Calgary_Overall', 'Industrial_Under Construction (s.f.)_Overall_Edmonton_Overall', 'Industrial_Under Construction (s.f.)_Overall_Halifax_Overall', 'Industrial_Under Construction (s.f.)_Overall_Waterloo Region_Overall', 'Industrial_Under Construction (s.f.)_Overall_Montreal_Overall', 'Industrial_Under Construction (s.f.)_Overall_National_Overall', 'Industrial_Under Construction (s.f.)_Overall_Ottawa-Gatineau_Overall', 'Industrial_Under Construction (s.f.)_Overall_Toronto_Overall', 'Industrial_Under Construction (s.f.)_Overall_Vancouver_Overall', 'Industrial_Under Construction (s.f.)_Overall_Winnipeg_Overall', 'Industrial_Vacancy (%)_Multi Tenant_Calgary_Overall', 'Industrial_Vacancy (%)_Multi Tenant_Edmonton_Overall', 'Industrial_Vacancy (%)_Multi Tenant_Halifax_Overall', 'Industrial_Vacancy (%)_Multi Tenant_Waterloo Region_Overall', 'Industrial_Vacancy (%)_Multi Tenant_Montreal_Overall', 'Industrial_Vacancy (%)_Multi Tenant_National_Overall', 'Industrial_Vacancy (%)_Multi Tenant_Ottawa-Gatineau_Overall', 'Industrial_Vacancy (%)_Multi Tenant_Toronto_Overall', 'Industrial_Vacancy (%)_Multi Tenant_Vancouver_Overall', 'Industrial_Vacancy (%)_Overall_Calgary_Overall', 'Industrial_Vacancy (%)_Overall_Edmonton_Overall', 'Industrial_Vacancy (%)_Overall_Halifax_Overall', 'Industrial_Vacancy (%)_Overall_Waterloo Region_Overall', 'Industrial_Vacancy (%)_Overall_Montreal_Overall', 'Industrial_Vacancy (%)_Overall_National_Overall', 'Industrial_Vacancy (%)_Overall_Ottawa-Gatineau_Overall', 'Industrial_Vacancy (%)_Overall_Toronto_Overall', 'Industrial_Vacancy (%)_Overall_Vancouver_Overall', 'Industrial_Vacancy (%)_Overall_Winnipeg_Overall', 'Industrial_Vacancy (%)_Single Tenant_Calgary_Overall', 'Industrial_Vacancy (%)_Single Tenant_Edmonton_Overall', 'Industrial_Vacancy (%)_Single Tenant_Halifax_Overall', 'Industrial_Vacancy (%)_Single Tenant_Waterloo Region_Overall', 'Industrial_Vacancy (%)_Single Tenant_Montreal_Overall', 'Industrial_Vacancy (%)_Single Tenant_National_Overall', 'Industrial_Vacancy (%)_Single Tenant_Ottawa-Gatineau_Overall', 'Industrial_Vacancy (%)_Single Tenant_Toronto_Overall', 'Industrial_Vacancy (%)_Single Tenant_Vancouver_Overall', 'Multifamily_Average Net Rent_Overall_Calgary_Overall', 'Multifamily_Average Net Rent_Overall_Edmonton_Overall', 'Multifamily_Average Net Rent_Overall_Gatineau_Overall', 'Multifamily_Average Net Rent_Overall_Halifax_Overall', 'Multifamily_Average Net Rent_Overall_Hamilton_Overall', 'Multifamily_Average Net Rent_Overall_Kelowna _Overall', 'Multifamily_Average Net Rent_Overall_Waterloo Region_Overall', 'Multifamily_Average Net Rent_Overall_London_Overall', 'Multifamily_Average Net Rent_Overall_Montreal_Overall', 'Multifamily_Average Net Rent_Overall_National_Overall', 'Multifamily_Average Net Rent_Overall_Ottawa-Gatineau_Overall', 'Multifamily_Average Net Rent_Overall_Quebec City_Overall', 'Multifamily_Average Net Rent_Overall_Regina_Overall', 'Multifamily_Average Net Rent_Overall_Saskatoon_Overall', 'Multifamily_Average Net Rent_Overall_Toronto_Overall', 'Multifamily_Average Net Rent_Overall_Vancouver_Overall', 'Multifamily_Average Net Rent_Overall_Victoria_Overall', 'Multifamily_Average Net Rent_Overall_Winnipeg_Overall', 'Multifamily_Avg. Sale Price per Unit_Downtown _Calgary_Overall', 'Multifamily_Avg. Sale Price per Unit_Downtown _Edmonton_Overall', 'Multifamily_Avg. Sale Price per Unit_Downtown _Halifax_Overall', 'Multifamily_Avg. Sale Price per Unit_Downtown _Montreal_Overall', 'Multifamily_Avg. Sale Price per Unit_Downtown _National_Overall', 'Multifamily_Avg. Sale Price per Unit_Downtown _Ottawa-Gatineau_Overall', 'Multifamily_Avg. Sale Price per Unit_Downtown _Quebec City_Overall', 'Multifamily_Avg. Sale Price per Unit_Downtown _Toronto_Overall', 'Multifamily_Avg. Sale Price per Unit_Downtown _Vancouver_Overall', 'Multifamily_Avg. Sale Price per Unit_Midtown_Montreal_Overall', 'Multifamily_Avg. Sale Price per Unit_Overall_National_Overall', 'Multifamily_Avg. Sale Price per Unit_Suburban_Calgary_Overall', 'Multifamily_Avg. Sale Price per Unit_Suburban_Edmonton_Overall', 'Multifamily_Avg. Sale Price per Unit_Suburban_Halifax_Overall', 'Multifamily_Avg. Sale Price per Unit_Suburban_Montreal_Overall', 'Multifamily_Avg. Sale Price per Unit_Suburban_National_Overall', 'Multifamily_Avg. Sale Price per Unit_Suburban_Ottawa-Gatineau_Overall', 'Multifamily_Avg. Sale Price per Unit_Suburban_Quebec City_Overall', 'Multifamily_Avg. Sale Price per Unit_Suburban_Toronto_Overall', 'Multifamily_Avg. Sale Price per Unit_Suburban_Vancouver_Overall', 'Multifamily_Cap Rate_Downtown _Calgary_Overall', 'Multifamily_Cap Rate_Downtown _Edmonton_Overall', 'Multifamily_Cap Rate_Downtown _Halifax_Overall', 'Multifamily_Cap Rate_Downtown _Montreal_Overall', 'Multifamily_Cap Rate_Downtown _National_Overall', 'Multifamily_Cap Rate_Downtown _Ottawa-Gatineau_Overall', 'Multifamily_Cap Rate_Downtown _Quebec City_Overall', 'Multifamily_Cap Rate_Downtown _Toronto_Overall', 'Multifamily_Cap Rate_Downtown _Vancouver_Overall', 'Multifamily_Cap Rate_Midtown_Montreal_Overall', 'Multifamily_Cap Rate_Overall_National_Overall', 'Multifamily_Cap Rate_Suburban_Calgary_Overall', 'Multifamily_Cap Rate_Suburban_Edmonton_Overall', 'Multifamily_Cap Rate_Suburban_Halifax_Overall', 'Multifamily_Cap Rate_Suburban_Montreal_Overall', 'Multifamily_Cap Rate_Suburban_National_Overall', 'Multifamily_Cap Rate_Suburban_Ottawa-Gatineau_Overall', 'Multifamily_Cap Rate_Suburban_Quebec City_Overall', 'Multifamily_Cap Rate_Suburban_Toronto_Overall', 'Multifamily_Cap Rate_Suburban_Vancouver_Overall', 'Multifamily_IRR_Downtown _Calgary_Overall', 'Multifamily_IRR_Downtown _Edmonton_Overall', 'Multifamily_IRR_Downtown _Halifax_Overall', 'Multifamily_IRR_Downtown _Montreal_Overall', 'Multifamily_IRR_Downtown _National_Overall', 'Multifamily_IRR_Downtown _Ottawa-Gatineau_Overall', 'Multifamily_IRR_Downtown _Quebec City_Overall', 'Multifamily_IRR_Downtown _Toronto_Overall', 'Multifamily_IRR_Downtown _Vancouver_Overall', 'Multifamily_IRR_Midtown_Montreal_Overall', 'Multifamily_IRR_Overall_National_Overall', 'Multifamily_IRR_Suburban_Calgary_Overall', 'Multifamily_IRR_Suburban_Edmonton_Overall', 'Multifamily_IRR_Suburban_Halifax_Overall', 'Multifamily_IRR_Suburban_Montreal_Overall', 'Multifamily_IRR_Suburban_National_Overall', 'Multifamily_IRR_Suburban_Ottawa-Gatineau_Overall', 'Multifamily_IRR_Suburban_Quebec City_Overall', 'Multifamily_IRR_Suburban_Toronto_Overall', 'Multifamily_IRR_Suburban_Vancouver_Overall', 'Multifamily_Terminal Cap Rate_Downtown _Calgary_Overall', 'Multifamily_Terminal Cap Rate_Downtown _Edmonton_Overall', 'Multifamily_Terminal Cap Rate_Downtown _Halifax_Overall', 'Multifamily_Terminal Cap Rate_Downtown _Montreal_Overall', 'Multifamily_Terminal Cap Rate_Downtown _National_Overall', 'Multifamily_Terminal Cap Rate_Downtown _Ottawa-Gatineau_Overall', 'Multifamily_Terminal Cap Rate_Downtown _Quebec City_Overall', 'Multifamily_Terminal Cap Rate_Downtown _Toronto_Overall', 'Multifamily_Terminal Cap Rate_Downtown _Vancouver_Overall', 'Multifamily_Terminal Cap Rate_Midtown_Montreal_Overall', 'Multifamily_Terminal Cap Rate_Overall_National_Overall', 'Multifamily_Terminal Cap Rate_Suburban_Calgary_Overall', 'Multifamily_Terminal Cap Rate_Suburban_Edmonton_Overall', 'Multifamily_Terminal Cap Rate_Suburban_Halifax_Overall', 'Multifamily_Terminal Cap Rate_Suburban_Montreal_Overall', 'Multifamily_Terminal Cap Rate_Suburban_National_Overall', 'Multifamily_Terminal Cap Rate_Suburban_Ottawa-Gatineau_Overall', 'Multifamily_Terminal Cap Rate_Suburban_Quebec City_Overall', 'Multifamily_Terminal Cap Rate_Suburban_Toronto_Overall', 'Multifamily_Terminal Cap Rate_Suburban_Vancouver_Overall', 'Multifamily_Vacancy (%)_Overall_Calgary_Overall', 'Multifamily_Vacancy (%)_Overall_Edmonton_Overall', 'Multifamily_Vacancy (%)_Overall_Gatineau_Overall', 'Multifamily_Vacancy (%)_Overall_Halifax_Overall', 'Multifamily_Vacancy (%)_Overall_Hamilton_Overall', 'Multifamily_Vacancy (%)_Overall_Kelowna _Overall', 'Multifamily_Vacancy (%)_Overall_Waterloo Region_Overall', 'Multifamily_Vacancy (%)_Overall_London_Overall', 'Multifamily_Vacancy (%)_Overall_Montreal_Overall', 'Multifamily_Vacancy (%)_Overall_National_Overall', 'Multifamily_Vacancy (%)_Overall_Ottawa-Gatineau_Overall', 'Multifamily_Vacancy (%)_Overall_Quebec City_Overall', 'Multifamily_Vacancy (%)_Overall_Regina_Overall', 'Multifamily_Vacancy (%)_Overall_Saskatoon_Overall', 'Multifamily_Vacancy (%)_Overall_Toronto_Overall', 'Multifamily_Vacancy (%)_Overall_Vancouver_Overall', 'Multifamily_Vacancy (%)_Overall_Victoria_Overall', 'Multifamily_Vacancy (%)_Overall_Winnipeg_Overall', 'Office_Average Net Rent_Downtown _Calgary_AA', 'Office_Average Net Rent_Downtown _Edmonton_AA', 'Office_Average Net Rent_Downtown _Halifax_AA', 'Office_Average Net Rent_Downtown _Waterloo Region_AA', 'Office_Average Net Rent_Downtown _Montreal_AA', 'Office_Average Net Rent_Downtown _National_AA', 'Office_Average Net Rent_Downtown _Ottawa-Gatineau_AA', 'Office_Average Net Rent_Downtown _Toronto_AA', 'Office_Average Net Rent_Downtown _Vancouver_AA', 'Office_Average Net Rent_Downtown _Calgary_Overall', 'Office_Average Net Rent_Downtown _Edmonton_Overall', 'Office_Average Net Rent_Downtown _Halifax_Overall', 'Office_Average Net Rent_Downtown _Waterloo Region_Overall', 'Office_Average Net Rent_Downtown _Montreal_Overall', 'Office_Average Net Rent_Downtown _Ottawa-Gatineau_Overall', 'Office_Average Net Rent_Downtown _Toronto_Overall', 'Office_Average Net Rent_Downtown _Vancouver_Overall', 'Office_Avg. Sale Price PSF_Downtown _Calgary_AA', 'Office_Avg. Sale Price PSF_Downtown _Edmonton_AA', 'Office_Avg. Sale Price PSF_Downtown _Halifax_AA', 'Office_Avg. Sale Price PSF_Downtown _Waterloo Region_AA', 'Office_Avg. Sale Price PSF_Downtown _Montreal_AA', 'Office_Avg. Sale Price PSF_Downtown _National_AA', 'Office_Avg. Sale Price PSF_Downtown _Ottawa-Gatineau_AA', 'Office_Avg. Sale Price PSF_Downtown _Quebec City_AA', 'Office_Avg. Sale Price PSF_Downtown _Toronto_AA', 'Office_Avg. Sale Price PSF_Downtown _Vancouver_AA', 'Office_Avg. Sale Price PSF_Downtown _Calgary_B', 'Office_Avg. Sale Price PSF_Downtown _Edmonton_B', 'Office_Avg. Sale Price PSF_Downtown _Halifax_B', 'Office_Avg. Sale Price PSF_Downtown _Waterloo Region_B', 'Office_Avg. Sale Price PSF_Downtown _Montreal_B', 'Office_Avg. Sale Price PSF_Downtown _National_B', 'Office_Avg. Sale Price PSF_Downtown _Ottawa-Gatineau_B', 'Office_Avg. Sale Price PSF_Downtown _Quebec City_B', 'Office_Avg. Sale Price PSF_Downtown _Toronto_B', 'Office_Avg. Sale Price PSF_Downtown _Vancouver_B', 'Office_Avg. Sale Price PSF_Midtown_Montreal_A', 'Office_Avg. Sale Price PSF_Overall_National_Overall', 'Office_Avg. Sale Price PSF_Suburban_Calgary_A', 'Office_Avg. Sale Price PSF_Suburban_Edmonton_A', 'Office_Avg. Sale Price PSF_Suburban_Halifax_A', 'Office_Avg. Sale Price PSF_Suburban_Waterloo Region_A', 'Office_Avg. Sale Price PSF_Suburban_Montreal_A', 'Office_Avg. Sale Price PSF_Suburban_National_A', 'Office_Avg. Sale Price PSF_Suburban_Ottawa-Gatineau_A', 'Office_Avg. Sale Price PSF_Suburban_Quebec City_A', 'Office_Avg. Sale Price PSF_Suburban_Toronto_A', 'Office_Avg. Sale Price PSF_Suburban_Vancouver_A', 'Office_Avg. Sale Price PSF_Suburban_Calgary_B', 'Office_Avg. Sale Price PSF_Suburban_Edmonton_B', 'Office_Avg. Sale Price PSF_Suburban_Halifax_B', 'Office_Avg. Sale Price PSF_Suburban_Waterloo Region_B', 'Office_Avg. Sale Price PSF_Suburban_Montreal_B', 'Office_Avg. Sale Price PSF_Suburban_National_B', 'Office_Avg. Sale Price PSF_Suburban_Ottawa-Gatineau_B', 'Office_Avg. Sale Price PSF_Suburban_Quebec City_B', 'Office_Avg. Sale Price PSF_Suburban_Toronto_B', 'Office_Avg. Sale Price PSF_Suburban_Vancouver_B', 'Office_Cap Rate_Downtown _Calgary_AA', 'Office_Cap Rate_Downtown _Edmonton_AA', 'Office_Cap Rate_Downtown _Halifax_AA', 'Office_Cap Rate_Downtown _Waterloo Region_AA', 'Office_Cap Rate_Downtown _Montreal_AA', 'Office_Cap Rate_Downtown _National_AA', 'Office_Cap Rate_Downtown _Ottawa-Gatineau_AA', 'Office_Cap Rate_Downtown _Quebec City_AA', 'Office_Cap Rate_Downtown _Toronto_AA', 'Office_Cap Rate_Downtown_Waterloo Region_AA', 'Office_Cap Rate_Downtown _Vancouver_AA', 'Office_Cap Rate_Downtown _Calgary_B', 'Office_Cap Rate_Downtown _Edmonton_B', 'Office_Cap Rate_Downtown _Halifax_B', 'Office_Cap Rate_Downtown _Waterloo Region_B', 'Office_Cap Rate_Downtown _Montreal_B', 'Office_Cap Rate_Downtown _National_B', 'Office_Cap Rate_Downtown _Ottawa-Gatineau_B', 'Office_Cap Rate_Downtown _Quebec City_B', 'Office_Cap Rate_Downtown _Toronto_B', 'Office_Cap Rate_Downtown _Vancouver_B', 'Office_Cap Rate_Midtown_Montreal_A', 'Office_Cap Rate_Overall_National_Overall', 'Office_Cap Rate_Suburban_Calgary_A', 'Office_Cap Rate_Suburban_Edmonton_A', 'Office_Cap Rate_Suburban_Halifax_A', 'Office_Cap Rate_Suburban_Waterloo Region_A', 'Office_Cap Rate_Suburban_Montreal_A', 'Office_Cap Rate_Suburban_National_A', 'Office_Cap Rate_Suburban_Ottawa-Gatineau_A', 'Office_Cap Rate_Suburban_Quebec City_A', 'Office_Cap Rate_Suburban_Toronto_A', 'Office_Cap Rate_Suburban_Vancouver_A', 'Office_Cap Rate_Suburban_Calgary_B', 'Office_Cap Rate_Suburban_Edmonton_B', 'Office_Cap Rate_Suburban_Halifax_B', 'Office_Cap Rate_Suburban_Waterloo Region_B', 'Office_Cap Rate_Suburban_Montreal_B', 'Office_Cap Rate_Suburban_National_B', 'Office_Cap Rate_Suburban_Ottawa-Gatineau_B', 'Office_Cap Rate_Suburban_Quebec City_B', 'Office_Cap Rate_Suburban_Toronto_B', 'Office_Cap Rate_Suburban_Vancouver_B', 'Office_Contruction Completions (s.f.)_Downtown_Calgary_AA', 'Office_Contruction Completions (s.f.)_Downtown_Edmonton_AA', 'Office_Contruction Completions (s.f.)_Downtown_Halifax_AA', 'Office_Contruction Completions (s.f.)_Downtown_Waterloo Region_AA', 'Office_Contruction Completions (s.f.)_Downtown_Montreal_AA', 'Office_Contruction Completions (s.f.)_Downtown_National_AA', 'Office_Contruction Completions (s.f.)_Downtown_Ottawa-Gatineau_AA', 'Office_Contruction Completions (s.f.)_Downtown_Toronto_AA', 'Office_Contruction Completions (s.f.)_Downtown_Vancouver_AA', 'Office_Contruction Completions (s.f.)_Downtown_Calgary_Overall', 'Office_Contruction Completions (s.f.)_Downtown_Edmonton_Overall', 'Office_Contruction Completions (s.f.)_Downtown_Halifax_Overall', 'Office_Contruction Completions (s.f.)_Downtown_Waterloo Region_Overall', 'Office_Contruction Completions (s.f.)_Downtown_Montreal_Overall', 'Office_Contruction Completions (s.f.)_Downtown_National_Overall', 'Office_Contruction Completions (s.f.)_Downtown_Ottawa-Gatineau_Overall', 'Office_Contruction Completions (s.f.)_Downtown_Toronto_Overall', 'Office_Contruction Completions (s.f.)_Downtown_Vancouver_Overall', 'Office_Contruction Completions (s.f.)_Overall_Calgary_Overall', 'Office_Contruction Completions (s.f.)_Overall_Edmonton_Overall', 'Office_Contruction Completions (s.f.)_Overall_Halifax_Overall', 'Office_Contruction Completions (s.f.)_Overall_Waterloo Region_Overall', 'Office_Contruction Completions (s.f.)_Overall_Montreal_Overall', 'Office_Contruction Completions (s.f.)_Overall_National_Overall', 'Office_Contruction Completions (s.f.)_Overall_Ottawa-Gatineau_Overall', 'Office_Contruction Completions (s.f.)_Overall_Toronto_Overall', 'Office_Contruction Completions (s.f.)_Overall_Vancouver_Overall', 'Office_Contruction Completions (s.f.)_Suburban_Calgary_Suburban', 'Office_Contruction Completions (s.f.)_Suburban_Edmonton_Suburban', 'Office_Contruction Completions (s.f.)_Suburban_Halifax_Suburban', 'Office_Contruction Completions (s.f.)_Suburban_Waterloo Region_Suburban', 'Office_Contruction Completions (s.f.)_Suburban_Montreal_Suburban', 'Office_Contruction Completions (s.f.)_Suburban_National_Suburban', 'Office_Contruction Completions (s.f.)_Suburban_Ottawa-Gatineau_Suburban', 'Office_Contruction Completions (s.f.)_Suburban_Toronto_Suburban', 'Office_Contruction Completions (s.f.)_Suburban_Vancouver_Suburban', 'Office_Inventory (s.f.)_Downtown_Calgary_AA', 'Office_Inventory (s.f.)_Downtown_Edmonton_AA', 'Office_Inventory (s.f.)_Downtown_Halifax_AA', 'Office_Inventory (s.f.)_Downtown_Waterloo Region_AA', 'Office_Inventory (s.f.)_Downtown_Montreal_AA', 'Office_Inventory (s.f.)_Downtown_National_AA', 'Office_Inventory (s.f.)_Downtown_Ottawa-Gatineau_AA', 'Office_Inventory (s.f.)_Downtown_Toronto_AA', 'Office_Inventory (s.f.)_Downtown_Vancouver_AA', 'Office_Inventory (s.f.)_Downtown_Calgary_Overall', 'Office_Inventory (s.f.)_Downtown_Edmonton_Overall', 'Office_Inventory (s.f.)_Downtown_Halifax_Overall', 'Office_Inventory (s.f.)_Downtown_Waterloo Region_Overall', 'Office_Inventory (s.f.)_Downtown_Montreal_Overall', 'Office_Inventory (s.f.)_Downtown_National_Overall', 'Office_Inventory (s.f.)_Downtown_Ottawa-Gatineau_Overall', 'Office_Inventory (s.f.)_Downtown_Toronto_Overall', 'Office_Inventory (s.f.)_Downtown_Vancouver_Overall', 'Office_Inventory (s.f.)_Overall_Calgary_Overall', 'Office_Inventory (s.f.)_Overall_Edmonton_Overall', 'Office_Inventory (s.f.)_Overall_Halifax_Overall', 'Office_Inventory (s.f.)_Overall_Waterloo Region_Overall', 'Office_Inventory (s.f.)_Overall_Montreal_Overall', 'Office_Inventory (s.f.)_Overall_National_Overall', 'Office_Inventory (s.f.)_Overall_Ottawa-Gatineau_Overall', 'Office_Inventory (s.f.)_Overall_Toronto_Overall', 'Office_Inventory (s.f.)_Overall_Vancouver_Overall', 'Office_Inventory (s.f.)_Suburban_Calgary_Suburban', 'Office_Inventory (s.f.)_Suburban_Edmonton_Suburban', 'Office_Inventory (s.f.)_Suburban_Halifax_Suburban', 'Office_Inventory (s.f.)_Suburban_Waterloo Region_Suburban', 'Office_Inventory (s.f.)_Suburban_Montreal_Suburban', 'Office_Inventory (s.f.)_Suburban_National_Suburban', 'Office_Inventory (s.f.)_Suburban_Ottawa-Gatineau_Suburban', 'Office_Inventory (s.f.)_Suburban_Toronto_Suburban', 'Office_Inventory (s.f.)_Suburban_Vancouver_Suburban', 'Office_IRR_Downtown _Calgary_AA', 'Office_IRR_Downtown _Edmonton_AA', 'Office_IRR_Downtown _Halifax_AA', 'Office_IRR_Downtown _Waterloo Region_AA', 'Office_IRR_Downtown _Montreal_AA', 'Office_IRR_Downtown _National_AA', 'Office_IRR_Downtown _Ottawa-Gatineau_AA', 'Office_IRR_Downtown _Quebec City_AA', 'Office_IRR_Downtown _Toronto_AA', 'Office_IRR_Downtown _Vancouver_AA', 'Office_IRR_Downtown _Calgary_B', 'Office_IRR_Downtown _Edmonton_B', 'Office_IRR_Downtown _Halifax_B', 'Office_IRR_Downtown _Waterloo Region_B', 'Office_IRR_Downtown _Montreal_B', 'Office_IRR_Downtown _National_B', 'Office_IRR_Downtown _Ottawa-Gatineau_B', 'Office_IRR_Downtown _Quebec City_B', 'Office_IRR_Downtown _Toronto_B', 'Office_IRR_Downtown _Vancouver_B', 'Office_IRR_Midtown_Montreal_A', 'Office_IRR_Suburban_Calgary_A', 'Office_IRR_Suburban_Edmonton_A', 'Office_IRR_Suburban_Halifax_A', 'Office_IRR_Suburban_Waterloo Region_A', 'Office_IRR_Suburban_Montreal_A', 'Office_IRR_Suburban_National_A', 'Office_IRR_Suburban_Ottawa-Gatineau_A', 'Office_IRR_Suburban_Quebec City_A', 'Office_IRR_Suburban_Toronto_A', 'Office_IRR_Suburban_Vancouver_A', 'Office_IRR_Suburban_Calgary_B', 'Office_IRR_Suburban_Edmonton_B', 'Office_IRR_Suburban_Halifax_B', 'Office_IRR_Suburban_Waterloo Region_B', 'Office_IRR_Suburban_Montreal_B', 'Office_IRR_Suburban_National_B', 'Office_IRR_Suburban_National_Overall', 'Office_IRR_Suburban_Ottawa-Gatineau_B', 'Office_IRR_Suburban_Quebec City_B', 'Office_IRR_Suburban_Toronto_B', 'Office_IRR_Suburban_Vancouver_B', 'Office_Net Absorption (s.f.)_Downtown_Calgary_AA', 'Office_Net Absorption (s.f.)_Downtown_Edmonton_AA', 'Office_Net Absorption (s.f.)_Downtown_Halifax_AA', 'Office_Net Absorption (s.f.)_Downtown_Waterloo Region_AA', 'Office_Net Absorption (s.f.)_Downtown_Montreal_AA', 'Office_Net Absorption (s.f.)_Downtown_National_AA', 'Office_Net Absorption (s.f.)_Downtown_Ottawa-Gatineau_AA', 'Office_Net Absorption (s.f.)_Downtown_Toronto_AA', 'Office_Net Absorption (s.f.)_Downtown_Vancouver_AA', 'Office_Net Absorption (s.f.)_Downtown_Calgary_Overall', 'Office_Net Absorption (s.f.)_Downtown_Edmonton_Overall', 'Office_Net Absorption (s.f.)_Downtown_Halifax_Overall', 'Office_Net Absorption (s.f.)_Downtown_Waterloo Region_Overall', 'Office_Net Absorption (s.f.)_Downtown_Montreal_Overall', 'Office_Net Absorption (s.f.)_Downtown_National_Overall', 'Office_Net Absorption (s.f.)_Downtown_Ottawa-Gatineau_Overall', 'Office_Net Absorption (s.f.)_Downtown_Toronto_Overall', 'Office_Net Absorption (s.f.)_Downtown_Vancouver_Overall', 'Office_Net Absorption (s.f.)_Overall_Calgary_Overall', 'Office_Net Absorption (s.f.)_Overall_Edmonton_Overall', 'Office_Net Absorption (s.f.)_Overall_Halifax_Overall', 'Office_Net Absorption (s.f.)_Overall_Waterloo Region_Overall', 'Office_Net Absorption (s.f.)_Overall_Montreal_Overall', 'Office_Net Absorption (s.f.)_Overall_National_Overall', 'Office_Net Absorption (s.f.)_Overall_Ottawa-Gatineau_Overall', 'Office_Net Absorption (s.f.)_Overall_Toronto_Overall', 'Office_Net Absorption (s.f.)_Overall_Vancouver_Overall', 'Office_Net Absorption (s.f.)_Suburban_Calgary_Suburban', 'Office_Net Absorption (s.f.)_Suburban_Edmonton_Suburban', 'Office_Net Absorption (s.f.)_Suburban_Halifax_Suburban', 'Office_Net Absorption (s.f.)_Suburban_Waterloo Region_Suburban', 'Office_Net Absorption (s.f.)_Suburban_Montreal_Suburban', 'Office_Net Absorption (s.f.)_Suburban_National_Suburban', 'Office_Net Absorption (s.f.)_Suburban_Ottawa-Gatineau_Suburban', 'Office_Net Absorption (s.f.)_Suburban_Toronto_Suburban', 'Office_Net Absorption (s.f.)_Suburban_Vancouver_Suburban', 'Office_Sublease Vacancy (s.f.)_Downtown_Calgary_AA', 'Office_Sublease Vacancy (s.f.)_Downtown_Edmonton_AA', 'Office_Sublease Vacancy (s.f.)_Downtown_Halifax_AA', 'Office_Sublease Vacancy (s.f.)_Downtown_Waterloo Region_AA', 'Office_Sublease Vacancy (s.f.)_Downtown_Montreal_AA', 'Office_Sublease Vacancy (s.f.)_Downtown_National_AA', 'Office_Sublease Vacancy (s.f.)_Downtown_Ottawa_AA', 'Office_Sublease Vacancy (s.f.)_Downtown_Toronto_AA', 'Office_Sublease Vacancy (s.f.)_Downtown_Vancouver_AA', 'Office_Sublease Vacancy (s.f.)_Downtown_Calgary_Overall', 'Office_Sublease Vacancy (s.f.)_Downtown_Edmonton_Overall', 'Office_Sublease Vacancy (s.f.)_Downtown_Halifax_Overall', 'Office_Sublease Vacancy (s.f.)_Downtown_Waterloo Region_Overall', 'Office_Sublease Vacancy (s.f.)_Downtown_Montreal_Overall', 'Office_Sublease Vacancy (s.f.)_Downtown_National_Overall', 'Office_Sublease Vacancy (s.f.)_Downtown_Ottawa_Overall', 'Office_Sublease Vacancy (s.f.)_Downtown_Toronto_Overall', 'Office_Sublease Vacancy (s.f.)_Downtown_Vancouver_Overall', 'Office_Sublease Vacancy (s.f.)_Overall_Calgary_Overall', 'Office_Sublease Vacancy (s.f.)_Overall_Edmonton_Overall', 'Office_Sublease Vacancy (s.f.)_Overall_Halifax_Overall', 'Office_Sublease Vacancy (s.f.)_Overall_Waterloo Region_Overall', 'Office_Sublease Vacancy (s.f.)_Overall_Montreal_Overall', 'Office_Sublease Vacancy (s.f.)_Overall_National_Overall', 'Office_Sublease Vacancy (s.f.)_Overall_Ottawa_Overall', 'Office_Sublease Vacancy (s.f.)_Overall_Toronto_Overall', 'Office_Sublease Vacancy (s.f.)_Overall_Vancouver_Overall', 'Office_Sublease Vacancy (s.f.)_Suburban_Calgary_Suburban', 'Office_Sublease Vacancy (s.f.)_Suburban_Edmonton_Suburban', 'Office_Sublease Vacancy (s.f.)_Suburban_Halifax_Suburban', 'Office_Sublease Vacancy (s.f.)_Suburban_Waterloo Region_Suburban', 'Office_Sublease Vacancy (s.f.)_Suburban_Montreal_Suburban', 'Office_Sublease Vacancy (s.f.)_Suburban_National_Suburban', 'Office_Sublease Vacancy (s.f.)_Suburban_Ottawa_Suburban', 'Office_Sublease Vacancy (s.f.)_Suburban_Toronto_Suburban', 'Office_Sublease Vacancy (s.f.)_Suburban_Vancouver_Suburban', 'Office_Terminal Cap Rate_Downtown _Calgary_AA', 'Office_Terminal Cap Rate_Downtown _Edmonton_AA', 'Office_Terminal Cap Rate_Downtown _Halifax_AA', 'Office_Terminal Cap Rate_Downtown _Waterloo Region_AA', 'Office_Terminal Cap Rate_Downtown _Montreal_AA', 'Office_Terminal Cap Rate_Downtown _National_AA', 'Office_Terminal Cap Rate_Downtown _Ottawa-Gatineau_AA', 'Office_Terminal Cap Rate_Downtown _Quebec City_AA', 'Office_Terminal Cap Rate_Downtown _Toronto_AA', 'Office_Terminal Cap Rate_Downtown _Vancouver_AA', 'Office_Terminal Cap Rate_Downtown _Calgary_B', 'Office_Terminal Cap Rate_Downtown _Edmonton_B', 'Office_Terminal Cap Rate_Downtown _Halifax_B', 'Office_Terminal Cap Rate_Downtown _Waterloo Region_B', 'Office_Terminal Cap Rate_Downtown _Montreal_B', 'Office_Terminal Cap Rate_Downtown _National_B', 'Office_Terminal Cap Rate_Downtown _Ottawa-Gatineau_B', 'Office_Terminal Cap Rate_Downtown _Quebec City_B', 'Office_Terminal Cap Rate_Downtown _Toronto_B', 'Office_Terminal Cap Rate_Downtown _Vancouver_B', 'Office_Terminal Cap Rate_Midtown_Montreal_A', 'Office_Terminal Cap Rate_Overall_National_Overall', 'Office_Terminal Cap Rate_Suburban_Calgary_A', 'Office_Terminal Cap Rate_Suburban_Edmonton_A', 'Office_Terminal Cap Rate_Suburban_Halifax_A', 'Office_Terminal Cap Rate_Suburban_Waterloo Region_A', 'Office_Terminal Cap Rate_Suburban_Montreal_A', 'Office_Terminal Cap Rate_Suburban_National_A', 'Office_Terminal Cap Rate_Suburban_Ottawa-Gatineau_A', 'Office_Terminal Cap Rate_Suburban_Quebec City_A', 'Office_Terminal Cap Rate_Suburban_Toronto_A', 'Office_Terminal Cap Rate_Suburban_Vancouver_A', 'Office_Terminal Cap Rate_Suburban_Calgary_B', 'Office_Terminal Cap Rate_Suburban_Edmonton_B', 'Office_Terminal Cap Rate_Suburban_Halifax_B', 'Office_Terminal Cap Rate_Suburban_Waterloo Region_B', 'Office_Terminal Cap Rate_Suburban_Montreal_B', 'Office_Terminal Cap Rate_Suburban_National_B', 'Office_Terminal Cap Rate_Suburban_Ottawa-Gatineau_B', 'Office_Terminal Cap Rate_Suburban_Quebec City_B', 'Office_Terminal Cap Rate_Suburban_Toronto_B', 'Office_Terminal Cap Rate_Suburban_Vancouver_B', 'Office_Total Vacancy (s.f.)_Downtown_Calgary_AA', 'Office_Total Vacancy (s.f.)_Downtown_Edmonton_AA', 'Office_Total Vacancy (s.f.)_Downtown_Halifax_AA', 'Office_Total Vacancy (s.f.)_Downtown_Waterloo Region_AA', 'Office_Total Vacancy (s.f.)_Downtown_Montreal_AA', 'Office_Total Vacancy (s.f.)_Downtown_National_AA', 'Office_Total Vacancy (s.f.)_Downtown_Ottawa-Gatineau_AA', 'Office_Total Vacancy (s.f.)_Downtown_Toronto_AA', 'Office_Total Vacancy (s.f.)_Downtown_Vancouver_AA', 'Office_Total Vacancy (s.f.)_Downtown_Calgary_Overall', 'Office_Total Vacancy (s.f.)_Downtown_Edmonton_Overall', 'Office_Total Vacancy (s.f.)_Downtown_Halifax_Overall', 'Office_Total Vacancy (s.f.)_Downtown_Waterloo Region_Overall', 'Office_Total Vacancy (s.f.)_Downtown_Montreal_Overall', 'Office_Total Vacancy (s.f.)_Downtown_National_Overall', 'Office_Total Vacancy (s.f.)_Downtown_Ottawa-Gatineau_Overall', 'Office_Total Vacancy (s.f.)_Downtown_Toronto_Overall', 'Office_Total Vacancy (s.f.)_Downtown_Vancouver_Overall', 'Office_Total Vacancy (s.f.)_Overall_Calgary_Overall', 'Office_Total Vacancy (s.f.)_Overall_Edmonton_Overall', 'Office_Total Vacancy (s.f.)_Overall_Halifax_Overall', 'Office_Total Vacancy (s.f.)_Overall_Waterloo Region_Overall', 'Office_Total Vacancy (s.f.)_Overall_Montreal_Overall', 'Office_Total Vacancy (s.f.)_Overall_National_Overall', 'Office_Total Vacancy (s.f.)_Overall_Ottawa-Gatineau_Overall', 'Office_Total Vacancy (s.f.)_Overall_Toronto_Overall', 'Office_Total Vacancy (s.f.)_Overall_Vancouver_Overall', 'Office_Total Vacancy (s.f.)_Suburban_Calgary_Suburban', 'Office_Total Vacancy (s.f.)_Suburban_Edmonton_Suburban', 'Office_Total Vacancy (s.f.)_Suburban_Halifax_Suburban', 'Office_Total Vacancy (s.f.)_Suburban_Waterloo Region_Suburban', 'Office_Total Vacancy (s.f.)_Suburban_Montreal_Suburban', 'Office_Total Vacancy (s.f.)_Suburban_National_Suburban', 'Office_Total Vacancy (s.f.)_Suburban_Ottawa-Gatineau_Suburban', 'Office_Total Vacancy (s.f.)_Suburban_Toronto_Suburban', 'Office_Total Vacancy (s.f.)_Suburban_Vancouver_Suburban', 'Office_Vacancy (%)_Downtown _Calgary_AA', 'Office_Vacancy (%)_Downtown _Edmonton_AA', 'Office_Vacancy (%)_Downtown _Halifax_AA', 'Office_Vacancy (%)_Downtown _Waterloo Region_AA', 'Office_Vacancy (%)_Downtown _Montreal_AA', 'Office_Vacancy (%)_Downtown _National_AA', 'Office_Vacancy (%)_Downtown _Ottawa-Gatineau_AA', 'Office_Vacancy (%)_Downtown _Toronto_AA', 'Office_Vacancy (%)_Downtown _Vancouver_AA', 'Office_Vacancy (%)_Downtown _Toronto_Overall', 'Office_Average Net Rent_Downtown _National_Overall', 'Office_Average Net Rent_Overall_Calgary_Overall', 'Office_Average Net Rent_Overall_Edmonton_Overall', 'Office_Average Net Rent_Overall_Halifax_Overall', 'Office_Average Net Rent_Overall_Waterloo Region_Overall', 'Office_Average Net Rent_Overall_Montreal_Overall', 'Office_Average Net Rent_Overall_National_Overall', 'Office_Average Net Rent_Overall_Ottawa-Gatineau_Overall', 'Office_Average Net Rent_Overall_Toronto_Overall', 'Office_Average Net Rent_Overall_Vancouver_Overall', 'Office_Average Net Rent_Suburban_Calgary_Overall', 'Office_Average Net Rent_Suburban_Edmonton_Overall', 'Office_Average Net Rent_Suburban_Halifax_Overall', 'Office_Average Net Rent_Suburban_Waterloo Region_Overall', 'Office_Average Net Rent_Suburban_Montreal_Overall', 'Office_Average Net Rent_Suburban_National_Overall', 'Office_Average Net Rent_Suburban_Ottawa-Gatineau_Overall', 'Office_Average Net Rent_Suburban_Toronto_Overall', 'Office_Average Net Rent_Suburban_Vancouver_Overall', 'Office_Under Construction (s.f.)_Downtown_Calgary_AA', 'Office_Under Construction (s.f.)_Downtown_Edmonton_AA', 'Office_Under Construction (s.f.)_Downtown_Halifax_AA', 'Office_Under Construction (s.f.)_Downtown_Waterloo Region_AA', 'Office_Under Construction (s.f.)_Downtown_Montreal_AA', 'Office_Under Construction (s.f.)_Downtown_National_AA', 'Office_Under Construction (s.f.)_Downtown_Ottawa-Gatineau_AA', 'Office_Under Construction (s.f.)_Downtown_Toronto_AA', 'Office_Under Construction (s.f.)_Downtown_Vancouver_AA', 'Office_Under Construction (s.f.)_Downtown_Calgary_Overall', 'Office_Under Construction (s.f.)_Downtown_Edmonton_Overall', 'Office_Under Construction (s.f.)_Downtown_Halifax_Overall', 'Office_Under Construction (s.f.)_Downtown_Waterloo Region_Overall', 'Office_Under Construction (s.f.)_Downtown_Montreal_Overall', 'Office_Under Construction (s.f.)_Downtown_National_Overall', 'Office_Under Construction (s.f.)_Downtown_Ottawa-Gatineau_Overall', 'Office_Under Construction (s.f.)_Downtown_Toronto_Overall', 'Office_Under Construction (s.f.)_Downtown_Vancouver_Overall', 'Office_Under Construction (s.f.)_Overall_Calgary_Overall', 'Office_Under Construction (s.f.)_Overall_Edmonton_Overall', 'Office_Under Construction (s.f.)_Overall_Halifax_Overall', 'Office_Under Construction (s.f.)_Overall_Waterloo Region_Overall', 'Office_Under Construction (s.f.)_Overall_Montreal_Overall', 'Office_Under Construction (s.f.)_Overall_National_Overall', 'Office_Under Construction (s.f.)_Overall_Ottawa-Gatineau_Overall', 'Office_Under Construction (s.f.)_Overall_Toronto_Overall', 'Office_Under Construction (s.f.)_Overall_Vancouver_Overall', 'Office_Under Construction (s.f.)_Suburban_Calgary_Suburban', 'Office_Under Construction (s.f.)_Suburban_Edmonton_Suburban', 'Office_Under Construction (s.f.)_Suburban_Halifax_Suburban', 'Office_Under Construction (s.f.)_Suburban_Waterloo Region_Suburban', 'Office_Under Construction (s.f.)_Suburban_Montreal_Suburban', 'Office_Under Construction (s.f.)_Suburban_National_Suburban', 'Office_Under Construction (s.f.)_Suburban_Ottawa-Gatineau_Suburban', 'Office_Under Construction (s.f.)_Suburban_Toronto_Suburban', 'Office_Under Construction (s.f.)_Suburban_Vancouver_Suburban', 'Office_Vacancy (%)_Downtown _Calgary_Overall', 'Office_Vacancy (%)_Downtown _Edmonton_Overall', 'Office_Vacancy (%)_Downtown _Halifax_Overall', 'Office_Vacancy (%)_Downtown _Waterloo Region_Overall', 'Office_Vacancy (%)_Downtown _Montreal_Overall', 'Office_Vacancy (%)_Downtown _National_Overall', 'Office_Vacancy (%)_Downtown _Ottawa-Gatineau_Overall', 'Office_Vacancy (%)_Downtown _Vancouver_Overall', 'Office_Vacancy (%)_Overall_Calgary_Overall', 'Office_Vacancy (%)_Overall_Edmonton_Overall', 'Office_Vacancy (%)_Overall_Halifax_Overall', 'Office_Vacancy (%)_Overall_Waterloo Region_Overall', 'Office_Vacancy (%)_Overall_Montreal_Overall', 'Office_Vacancy (%)_Overall_National_Overall', 'Office_Vacancy (%)_Overall_Ottawa-Gatineau_Overall', 'Office_Vacancy (%)_Overall_Toronto_Overall', 'Office_Vacancy (%)_Overall_Vancouver_Overall', 'Office_Vacancy (%)_Suburban_Calgary_Overall', 'Office_Vacancy (%)_Suburban_Edmonton_Overall', 'Office_Vacancy (%)_Suburban_Halifax_Overall', 'Office_Vacancy (%)_Suburban_Waterloo Region_Overall', 'Office_Vacancy (%)_Suburban_Montreal_Overall', 'Office_Vacancy (%)_Suburban_National_Overall', 'Office_Vacancy (%)_Suburban_Ottawa-Gatineau_Overall', 'Office_Vacancy (%)_Suburban_Toronto_Overall', 'Office_Vacancy (%)_Suburban_Vancouver_Overall', 'Retail_Cap Rate_All Retail_Calgary_Overall', 'Retail_Cap Rate_All Retail_Edmonton_Overall', 'Retail_Cap Rate_All Retail_Halifax_Overall', 'Retail_Cap Rate_All Retail_Montreal_Overall', 'Retail_Cap Rate_All Retail_Ottawa-Gatineau_Overall', 'Retail_Cap Rate_All Retail_Quebec City_Overall', 'Retail_Cap Rate_All Retail_Toronto_Overall', 'Retail_Cap Rate_All Retail_Vancouver_Overall', 'Retail_Cap Rate_Grocery Anchored Strip _Calgary_Overall', 'Retail_Cap Rate_Grocery Anchored Strip _Edmonton_Overall', 'Retail_Cap Rate_Grocery Anchored Strip _Halifax_Overall', 'Retail_Cap Rate_Grocery Anchored Strip _Montreal_Overall', 'Retail_Cap Rate_Grocery Anchored Strip _National_Overall', 'Retail_Cap Rate_Grocery Anchored Strip _Ottawa-Gatineau_Overall', 'Retail_Cap Rate_Grocery Anchored Strip _Quebec City_Overall', 'Retail_Cap Rate_Grocery Anchored Strip _Toronto_Overall', 'Retail_Cap Rate_Grocery Anchored Strip _Vancouver_Overall', 'Retail_Cap Rate_Overall_National_Overall', 'Retail_Cap Rate_Power Centre_Calgary_Overall', 'Retail_Cap Rate_Power Centre_Edmonton_Overall', 'Retail_Cap Rate_Power Centre_Halifax_Overall', 'Retail_Cap Rate_Power Centre_Montreal_Overall', 'Retail_Cap Rate_Power Centre_National_Overall', 'Retail_Cap Rate_Power Centre_Ottawa-Gatineau_Overall', 'Retail_Cap Rate_Power Centre_Quebec City_Overall', 'Retail_Cap Rate_Power Centre_Toronto_Overall', 'Retail_Cap Rate_Power Centre_Vancouver_Overall', 'Retail_Cap Rate_Single Tenant Retail_Calgary_Overall', 'Retail_Cap Rate_Single Tenant Retail_Edmonton_Overall', 'Retail_Cap Rate_Single Tenant Retail_Halifax_Overall', 'Retail_Cap Rate_Single Tenant Retail_Montreal_Overall', 'Retail_Cap Rate_Single Tenant Retail_National_Overall', 'Retail_Cap Rate_Single Tenant Retail_Ottawa-Gatineau_Overall', 'Retail_Cap Rate_Single Tenant Retail_Quebec City_Overall', 'Retail_Cap Rate_Single Tenant Retail_Toronto_Overall', 'Retail_Cap Rate_Single Tenant Retail_Vancouver_Overall', 'Retail_Cap Rate_Strip Centre_Calgary_Overall', 'Retail_Cap Rate_Strip Centre_Edmonton_Overall', 'Retail_Cap Rate_Strip Centre_Halifax_Overall', 'Retail_Cap Rate_Strip Centre_Montreal_Overall', 'Retail_Cap Rate_Strip Centre_National_Overall', 'Retail_Cap Rate_Strip Centre_Ottawa-Gatineau_Overall', 'Retail_Cap Rate_Strip Centre_Quebec City_Overall', 'Retail_Cap Rate_Strip Centre_Toronto_Overall', 'Retail_Cap Rate_Strip Centre_Vancouver_Overall', 'Retail_Cap Rate_Tier 1 Regional Mall_Calgary_Overall', 'Retail_Cap Rate_Tier 1 Regional Mall_Edmonton_Overall', 'Retail_Cap Rate_Tier 1 Regional Mall_Halifax_Overall', 'Retail_Cap Rate_Tier 1 Regional Mall_Montreal_Overall', 'Retail_Cap Rate_Tier 1 Regional Mall_National_Overall', 'Retail_Cap Rate_Tier 1 Regional Mall_Ottawa-Gatineau_Overall', 'Retail_Cap Rate_Tier 1 Regional Mall_Quebec City_Overall', 'Retail_Cap Rate_Tier 1 Regional Mall_Toronto_Overall', 'Retail_Cap Rate_Tier 1 Regional Mall_Vancouver_Overall', 'Retail_Cap Rate_Tier 2 Regional Mall_Edmonton_Overall', 'Retail_Cap Rate_Tier 2 Regional Mall_Halifax_Overall', 'Retail_Cap Rate_Tier 2 Regional Mall_Montreal_Overall', 'Retail_Cap Rate_Tier 2 Regional Mall_National_Overall', 'Retail_Cap Rate_Tier 2 Regional Mall_Ottawa-Gatineau_Overall', 'Retail_Cap Rate_Tier 2 Regional Mall_Quebec City_Overall', 'Retail_Cap Rate_Tier 2 Regional Mall_Toronto_Overall', 'Retail_Cap Rate_Tier 2 Regional Mall_Vancouver_Overall', 'Retail_Cap Rate_Tier 2 Regional Mall_Winnipeg_Overall', 'Retail_IRR_Grocery Anchored Strip _Calgary_Overall', 'Retail_IRR_Grocery Anchored Strip _Edmonton_Overall', 'Retail_IRR_Grocery Anchored Strip _Halifax_Overall', 'Retail_IRR_Grocery Anchored Strip _Montreal_Overall', 'Retail_IRR_Grocery Anchored Strip _National_Overall', 'Retail_IRR_Grocery Anchored Strip _Ottawa-Gatineau_Overall', 'Retail_IRR_Grocery Anchored Strip _Quebec City_Overall', 'Retail_IRR_Grocery Anchored Strip _Toronto_Overall', 'Retail_IRR_Grocery Anchored Strip _Vancouver_Overall', 'Retail_IRR_Overall_National_Overall', 'Retail_IRR_Power Centre_Calgary_Overall', 'Retail_IRR_Power Centre_Edmonton_Overall', 'Retail_IRR_Power Centre_Halifax_Overall', 'Retail_IRR_Power Centre_Montreal_Overall', 'Retail_IRR_Power Centre_National_Overall', 'Retail_IRR_Power Centre_Ottawa-Gatineau_Overall', 'Retail_IRR_Power Centre_Quebec City_Overall', 'Retail_IRR_Power Centre_Toronto_Overall', 'Retail_IRR_Power Centre_Vancouver_Overall', 'Retail_IRR_Single Tenant Retail_Calgary_Overall', 'Retail_IRR_Single Tenant Retail_Edmonton_Overall', 'Retail_IRR_Single Tenant Retail_Halifax_Overall', 'Retail_IRR_Single Tenant Retail_Montreal_Overall', 'Retail_IRR_Single Tenant Retail_National_Overall', 'Retail_IRR_Single Tenant Retail_Ottawa-Gatineau_Overall', 'Retail_IRR_Single Tenant Retail_Quebec City_Overall', 'Retail_IRR_Single Tenant Retail_Toronto_Overall', 'Retail_IRR_Single Tenant Retail_Vancouver_Overall', 'Retail_IRR_Strip Centre_Calgary_Overall', 'Retail_IRR_Strip Centre_Edmonton_Overall', 'Retail_IRR_Strip Centre_Halifax_Overall', 'Retail_IRR_Strip Centre_Montreal_Overall', 'Retail_IRR_Strip Centre_National_Overall', 'Retail_IRR_Strip Centre_Ottawa-Gatineau_Overall', 'Retail_IRR_Strip Centre_Quebec City_Overall', 'Retail_IRR_Strip Centre_Toronto_Overall', 'Retail_IRR_Strip Centre_Vancouver_Overall', 'Retail_IRR_Tier 1 Regional Mall_Calgary_Overall', 'Retail_IRR_Tier 1 Regional Mall_Edmonton_Overall', 'Retail_IRR_Tier 1 Regional Mall_Halifax_Overall', 'Retail_IRR_Tier 1 Regional Mall_Montreal_Overall', 'Retail_IRR_Tier 1 Regional Mall_National_Overall', 'Retail_IRR_Tier 1 Regional Mall_Ottawa-Gatineau_Overall', 'Retail_IRR_Tier 1 Regional Mall_Quebec City_Overall', 'Retail_IRR_Tier 1 Regional Mall_Toronto_Overall', 'Retail_IRR_Tier 1 Regional Mall_Vancouver_Overall', 'Retail_IRR_Tier 2 Regional Mall_Edmonton_Overall', 'Retail_IRR_Tier 2 Regional Mall_Halifax_Overall', 'Retail_IRR_Tier 2 Regional Mall_Montreal_Overall', 'Retail_IRR_Tier 2 Regional Mall_National_Overall', 'Retail_IRR_Tier 2 Regional Mall_Ottawa-Gatineau_Overall', 'Retail_IRR_Tier 2 Regional Mall_Quebec City_Overall', 'Retail_IRR_Tier 2 Regional Mall_Toronto_Overall', 'Retail_IRR_Tier 2 Regional Mall_Vancouver_Overall', 'Retail_IRR_Tier 2 Regional Mall_Winnipeg_Overall', 'Retail_Terminal Cap Rate_Grocery Anchored Strip _Calgary_Overall', 'Retail_Terminal Cap Rate_Grocery Anchored Strip _Edmonton_Overall', 'Retail_Terminal Cap Rate_Grocery Anchored Strip _Halifax_Overall', 'Retail_Terminal Cap Rate_Grocery Anchored Strip _Montreal_Overall', 'Retail_Terminal Cap Rate_Grocery Anchored Strip _National_Overall', 'Retail_Terminal Cap Rate_Grocery Anchored Strip _Ottawa-Gatineau_Overall', 'Retail_Terminal Cap Rate_Grocery Anchored Strip _Quebec City_Overall', 'Retail_Terminal Cap Rate_Grocery Anchored Strip _Toronto_Overall', 'Retail_Terminal Cap Rate_Grocery Anchored Strip _Vancouver_Overall', 'Retail_Terminal Cap Rate_Power Centre_Calgary_Overall', 'Retail_Terminal Cap Rate_Power Centre_Edmonton_Overall', 'Retail_Terminal Cap Rate_Power Centre_Halifax_Overall', 'Retail_Terminal Cap Rate_Power Centre_Montreal_Overall', 'Retail_Terminal Cap Rate_Power Centre_National_Overall', 'Retail_Terminal Cap Rate_Power Centre_Ottawa-Gatineau_Overall', 'Retail_Terminal Cap Rate_Power Centre_Quebec City_Overall', 'Retail_Terminal Cap Rate_Power Centre_Toronto_Overall', 'Retail_Terminal Cap Rate_Power Centre_Vancouver_Overall', 'Retail_Terminal Cap Rate_Single Tenant Retail_Calgary_Overall', 'Retail_Terminal Cap Rate_Single Tenant Retail_Edmonton_Overall', 'Retail_Terminal Cap Rate_Single Tenant Retail_Halifax_Overall', 'Retail_Terminal Cap Rate_Single Tenant Retail_Montreal_Overall', 'Retail_Terminal Cap Rate_Single Tenant Retail_National_Overall', 'Retail_Terminal Cap Rate_Single Tenant Retail_Ottawa-Gatineau_Overall', 'Retail_Terminal Cap Rate_Single Tenant Retail_Quebec City_Overall', 'Retail_Terminal Cap Rate_Single Tenant Retail_Toronto_Overall', 'Retail_Terminal Cap Rate_Single Tenant Retail_Vancouver_Overall', 'Retail_Terminal Cap Rate_Strip Centre_Calgary_Overall', 'Retail_Terminal Cap Rate_Strip Centre_Edmonton_Overall', 'Retail_Terminal Cap Rate_Strip Centre_Halifax_Overall', 'Retail_Terminal Cap Rate_Strip Centre_Montreal_Overall', 'Retail_Terminal Cap Rate_Strip Centre_National_Overall', 'Retail_Terminal Cap Rate_Strip Centre_Ottawa-Gatineau_Overall', 'Retail_Terminal Cap Rate_Strip Centre_Quebec City_Overall', 'Retail_Terminal Cap Rate_Strip Centre_Toronto_Overall', 'Retail_Terminal Cap Rate_Strip Centre_Vancouver_Overall', 'Retail_Terminal Cap Rate_Tier 1 Regional Mall_Calgary_Overall', 'Retail_Terminal Cap Rate_Tier 1 Regional Mall_Edmonton_Overall', 'Retail_Terminal Cap Rate_Tier 1 Regional Mall_Halifax_Overall', 'Retail_Terminal Cap Rate_Tier 1 Regional Mall_Montreal_Overall', 'Retail_Terminal Cap Rate_Tier 1 Regional Mall_National_Overall', 'Retail_Terminal Cap Rate_Tier 1 Regional Mall_Ottawa-Gatineau_Overall', 'Retail_Terminal Cap Rate_Tier 1 Regional Mall_Quebec City_Overall', 'Retail_Terminal Cap Rate_Tier 1 Regional Mall_Toronto_Overall', 'Retail_Terminal Cap Rate_Tier 1 Regional Mall_Vancouver_Overall', 'Retail_Terminal Cap Rate_Tier 2 Regional Mall_Edmonton_Overall', 'Retail_Terminal Cap Rate_Tier 2 Regional Mall_Halifax_Overall', 'Retail_Terminal Cap Rate_Tier 2 Regional Mall_Montreal_Overall', 'Retail_Terminal Cap Rate_Tier 2 Regional Mall_National_Overall', 'Retail_Terminal Cap Rate_Tier 2 Regional Mall_Ottawa-Gatineau_Overall', 'Retail_Terminal Cap Rate_Tier 2 Regional Mall_Quebec City_Overall', 'Retail_Terminal Cap Rate_Tier 2 Regional Mall_Toronto_Overall', 'Retail_Terminal Cap Rate_Tier 2 Regional Mall_Vancouver_Overall', 'Retail_Terminal Cap Rate_Tier 2 Regional Mall_Winnipeg_Overall', 'Tax_Per $1,000 of assessment_Commercial_Calgary_Overall', 'Tax_Per $1,000 of assessment_Commercial_Edmonton_Overall', 'Tax_Per $1,000 of assessment_Commercial_Halifax_Overall', 'Tax_Per $1,000 of assessment_Commercial_Montreal_Overall', 'Tax_Per $1,000 of assessment_Commercial_National_Overall', 'Tax_Per $1,000 of assessment_Commercial_Ottawa_Overall', 'Tax_Per $1,000 of assessment_Commercial_Quebec City_Overall', 'Tax_Per $1,000 of assessment_Commercial_Regina_Overall', 'Tax_Per $1,000 of assessment_Commercial_Saskatoon_Overall', 'Tax_Per $1,000 of assessment_Commercial_Toronto_Overall', 'Tax_Per $1,000 of assessment_Commercial_Vancouver_Overall', 'Tax_Per $1,000 of assessment_Commercial_Winnipeg_Overall', 'Tax_Per $1,000 of assessment_Residential_Calgary_Overall', 'Tax_Per $1,000 of assessment_Residential_Edmonton_Overall', 'Tax_Per $1,000 of assessment_Residential_Halifax_Overall', 'Tax_Per $1,000 of assessment_Residential_Montreal_Overall', 'Tax_Per $1,000 of assessment_Residential_National_Overall', 'Tax_Per $1,000 of assessment_Residential_Ottawa_Overall', 'Tax_Per $1,000 of assessment_Residential_Quebec City_Overall', 'Tax_Per $1,000 of assessment_Residential_Regina_Overall', 'Tax_Per $1,000 of assessment_Residential_Saskatoon_Overall', 'Tax_Per $1,000 of assessment_Residential_Toronto_Overall', 'Tax_Per $1,000 of assessment_Residential_Vancouver_Overall', 'Tax_Per $1,000 of assessment_Residential_Winnipeg_Overall'])"
      ]
     },
     "execution_count": 8,
     "metadata": {},
     "output_type": "execute_result"
    }
   ],
   "source": [
    "#Variables  from \"Valuation Parameters\"\n",
    "dict_VP.keys()"
   ]
  },
  {
   "cell_type": "markdown",
   "metadata": {
    "tags": []
   },
   "source": [
    "#### Pivot Tables"
   ]
  },
  {
   "cell_type": "code",
   "execution_count": 9,
   "metadata": {},
   "outputs": [],
   "source": [
    "#pivot_ui(Sales_Data)"
   ]
  },
  {
   "cell_type": "markdown",
   "metadata": {},
   "source": [
    "### Creating Presentation"
   ]
  },
  {
   "cell_type": "code",
   "execution_count": 10,
   "metadata": {
    "code_folding": [
     0
    ]
   },
   "outputs": [],
   "source": [
    "#Using the Design of House View--Template\n",
    "#1. Open Presentation:\n",
    "prs=Presentation('Canadian_report_template.pptx')"
   ]
  },
  {
   "cell_type": "markdown",
   "metadata": {},
   "source": [
    "#### SLIDES # MONTREAL "
   ]
  },
  {
   "cell_type": "markdown",
   "metadata": {
    "tags": []
   },
   "source": [
    "##### Slide General/Industrial/Land"
   ]
  },
  {
   "cell_type": "code",
   "execution_count": 11,
   "metadata": {},
   "outputs": [],
   "source": [
    "lyt=prs.slide_layouts[4]\n",
    "slide=prs.slides.add_slide(lyt)\n",
    "\n",
    "#look at Place Holders\n",
    "#for shape in slide.placeholders:\n",
    "#     print('%d %s' % (shape.placeholder_format.idx, shape.name))\n",
    "\n",
    "#Save Slide Place Holders\n",
    "title_1,text_2,chart_1,chart_2,chart_3=slide.placeholders  "
   ]
  },
  {
   "cell_type": "code",
   "execution_count": 12,
   "metadata": {},
   "outputs": [],
   "source": [
    "# Slide - General | Industrial | Land\"\n",
    "title=slide.shapes.title\n",
    "title.text=\"Montreal - General | Industrial | Land\"\n",
    "########################################################################################################################\n",
    "########################################################################################################################\n",
    "#Line Chart-  Cap Rates\n",
    "chart_data = CategoryChartData()\n",
    "chart_data.categories=list(Dates_capital_data)\n",
    "chart_data.add_series('Industrial',    fill_array(dict_VP['Industrial_Cap Rate_Multi Tenant_Montreal_Overall']))\n",
    "chart_data.add_series('Multifamily',     fill_array(dict_VP['Multifamily_Cap Rate_Downtown _Montreal_Overall']))\n",
    "chart_data.add_series('Office',   fill_array(dict_VP['Office_Cap Rate_Downtown _Montreal_AA']))\n",
    "chart_data.add_series('Retail',  fill_array(dict_VP['Retail_Cap Rate_All Retail_Montreal_Overall']))\n",
    "chart_data.add_series('GoC 10-yr',  fill_array(Financial_Data_dict['Canada 10 Year Benchmark Bond Yield -Bank of Canada 10 year bond yield_Bond_National_Bond_Interest Rate_Bank of Canada - Y Charts']))                            \n",
    "#Create Graph\n",
    "graphic_frame=chart_1.insert_chart(XL_CHART_TYPE.LINE, chart_data)\n",
    "Actual_graph=graphic_frame.chart                                                                                    \n",
    "#Chart title\n",
    "Actual_graph.chart_title.text_frame.text='Cap Rates by Asset Class'\n",
    "\n",
    "########################################################################################################################\n",
    "########################################################################################################################\n",
    "# Bar chart Industrial Investment Volumes and Sale price PSF\n",
    "\n",
    "chart_data = CategoryChartData()\n",
    "chart_data.categories=Dates_Inv_volumes\n",
    "chart_data.add_series('Total Investment', inv_vol_dict['Montreal_Industrial'])\n",
    "chart_data.add_series('Multi Tenant',list(from_quarter_year(fill_array,Dates_capital_data,dict_VP['Industrial_Cap Rate_Multi Tenant_Montreal_Overall'],number=9)) )\n",
    "chart_data.add_series('Single Tenant',list(from_quarter_year(fill_array,Dates_capital_data,dict_VP['Industrial_Cap Rate_Single Tenant_Montreal_Overall'],number=9)) )\n",
    "\n",
    "#Create Graph\n",
    "graphic_frame=chart_2.insert_chart(XL_CHART_TYPE.COLUMN_CLUSTERED, chart_data)\n",
    "Actual_graph=graphic_frame.chart                                                                                    \n",
    "#Chart title\n",
    "Actual_graph.chart_title.text_frame.text='Industrial Investment Volumes and Sale price PSF'\n",
    "\n",
    "########################################################################################################################\n",
    "########################################################################################################################\n",
    "#Bar chart Industrial Investment Volumes and Sale price PSF\n",
    "chart_data = CategoryChartData()\n",
    "chart_data.categories=Dates_Inv_volumes\n",
    "chart_data.add_series('Total Investment', inv_vol_dict['Montreal_Land'])\n",
    "#Create Graph\n",
    "graphic_frame=chart_3.insert_chart(XL_CHART_TYPE.COLUMN_CLUSTERED, chart_data)\n",
    "Actual_graph=graphic_frame.chart                                                                                    \n",
    "#Chart title\n",
    "Actual_graph.chart_title.text_frame.text='Land Investment Volumes'\n"
   ]
  },
  {
   "cell_type": "markdown",
   "metadata": {},
   "source": [
    "##### Slide Multifamily/Office/Retail"
   ]
  },
  {
   "cell_type": "code",
   "execution_count": 13,
   "metadata": {},
   "outputs": [],
   "source": [
    "lyt=prs.slide_layouts[4]\n",
    "slide=prs.slides.add_slide(lyt)\n",
    "\n",
    "#look at Place Holders\n",
    "#for shape in slide.placeholders:\n",
    "#     print('%d %s' % (shape.placeholder_format.idx, shape.name))\n",
    "\n",
    "#Save Slide Place Holders\n",
    "title_1,text_2,chart_1,chart_2,chart_3=slide.placeholders  "
   ]
  },
  {
   "cell_type": "code",
   "execution_count": 14,
   "metadata": {},
   "outputs": [],
   "source": [
    "# Slide - Multifamily/Office/Retail\"\n",
    "title=slide.shapes.title\n",
    "title.text=\"Montreal - Multifamily | Office | Retail\"\n",
    "########################################################################################################################\n",
    "########################################################################################################################\n",
    "#Line Chart-  Cap Rates\n",
    "# Bar chart Industrial Investment Volumes and Sale price PSF\n",
    "chart_data = CategoryChartData()\n",
    "chart_data.categories=Dates_Inv_volumes\n",
    "chart_data.add_series('Total Investment', inv_vol_dict['Montreal_Multifamily'])\n",
    "chart_data.add_series('Avg. PPU Downtown',list(from_quarter_year(fill_array,Dates_capital_data,dict_VP['Multifamily_Avg. Sale Price per Unit_Downtown _Montreal_Overall'],number=9)) )\n",
    "chart_data.add_series('Avg. PPU Midtown',list(from_quarter_year(fill_array,Dates_capital_data,dict_VP['Multifamily_Avg. Sale Price per Unit_Midtown_Montreal_Overall'],number=9)) )\n",
    "chart_data.add_series('Avg. PPU Suburban',list(from_quarter_year(fill_array,Dates_capital_data,dict_VP['Multifamily_Avg. Sale Price per Unit_Suburban_Montreal_Overall'],number=9)) )\n",
    "\n",
    "#Create Graph\n",
    "graphic_frame=chart_1.insert_chart(XL_CHART_TYPE.COLUMN_CLUSTERED, chart_data)\n",
    "Actual_graph=graphic_frame.chart                                                                                    \n",
    "#Chart title\n",
    "Actual_graph.chart_title.text_frame.text='Multifamily Investment Volumes and Sale price Per Unit'\n",
    "\n",
    "########################################################################################################################\n",
    "########################################################################################################################\n",
    "# Bar chart Industrial Investment Volumes and Sale price PSF\n",
    "chart_data = CategoryChartData()\n",
    "chart_data.categories=Dates_Inv_volumes\n",
    "chart_data.add_series('Total Investment', inv_vol_dict['Montreal_Office'])\n",
    "chart_data.add_series('Avg. PSF, Downtown',list(from_quarter_year(fill_array,Dates_capital_data,dict_VP['Office_Avg. Sale Price PSF_Downtown _Montreal_AA'],number=9)) )\n",
    "chart_data.add_series('Avg. PSF, Midtown',list(from_quarter_year(fill_array,Dates_capital_data,dict_VP['Office_Avg. Sale Price PSF_Midtown_Montreal_A'],number=9)) )\n",
    "chart_data.add_series('Avg. PSF, Suburban',list(from_quarter_year(fill_array,Dates_capital_data,dict_VP['Office_Avg. Sale Price PSF_Suburban_Montreal_A'],number=9)) )\n",
    "\n",
    "#Create Graph\n",
    "graphic_frame=chart_2.insert_chart(XL_CHART_TYPE.COLUMN_CLUSTERED, chart_data)\n",
    "Actual_graph=graphic_frame.chart                                                                                    \n",
    "#Chart title\n",
    "Actual_graph.chart_title.text_frame.text='Office Investment Volumes and Sale price PSF'\n",
    "\n",
    "########################################################################################################################\n",
    "########################################################################################################################\n",
    "#Bar chart Industrial Investment Volumes and Sale price PSF\n",
    "chart_data = CategoryChartData()\n",
    "chart_data.categories=Dates_Inv_volumes\n",
    "chart_data.add_series('Total Investment', inv_vol_dict['Montreal_Retail'])\n",
    "chart_data.add_series('Avg. PSF, Downtown',list(from_quarter_year(fill_array,Dates_capital_data,dict_VP['Office_Avg. Sale Price PSF_Downtown _Montreal_AA'],number=9)) )\n",
    "chart_data.add_series('Avg. PSF, Midtown',list(from_quarter_year(fill_array,Dates_capital_data,dict_VP['Office_Avg. Sale Price PSF_Midtown_Montreal_A'],number=9)) )\n",
    "chart_data.add_series('Avg. PSF, Suburban',list(from_quarter_year(fill_array,Dates_capital_data,dict_VP['Office_Avg. Sale Price PSF_Suburban_Montreal_A'],number=9)) )\n",
    "\n",
    "#Create Graph\n",
    "graphic_frame=chart_3.insert_chart(XL_CHART_TYPE.COLUMN_CLUSTERED, chart_data)\n",
    "Actual_graph=graphic_frame.chart                                                                                    \n",
    "#Chart title\n",
    "Actual_graph.chart_title.text_frame.text='Land Investment Volumes'\n"
   ]
  },
  {
   "cell_type": "code",
   "execution_count": 15,
   "metadata": {},
   "outputs": [],
   "source": [
    "#Save presentation\n",
    "prs.save(file_output_name)"
   ]
  }
 ],
 "metadata": {
  "kernelspec": {
   "display_name": "Python 3",
   "language": "python",
   "name": "python3"
  },
  "language_info": {
   "codemirror_mode": {
    "name": "ipython",
    "version": 3
   },
   "file_extension": ".py",
   "mimetype": "text/x-python",
   "name": "python",
   "nbconvert_exporter": "python",
   "pygments_lexer": "ipython3",
   "version": "3.8.5"
  }
 },
 "nbformat": 4,
 "nbformat_minor": 4
}
